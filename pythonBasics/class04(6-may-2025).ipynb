{
 "cells": [
  {
   "cell_type": "raw",
   "id": "6a1a38e3-1f50-48e4-ad4b-bc80a702092d",
   "metadata": {},
   "source": []
  },
  {
   "cell_type": "markdown",
   "id": "4d764485-7123-45a9-8daa-19e6cda5d936",
   "metadata": {},
   "source": [
    "# Conditional statement\n",
    "### if statement\n",
    "### if else statement\n",
    "### elif statement\n",
    "### nested if statement\n",
    "\n",
    "  "
   ]
  },
  {
   "cell_type": "markdown",
   "id": "cdf3d852-b493-4651-923b-f08c7676e8c9",
   "metadata": {},
   "source": [
    "# if statement and if else statement"
   ]
  },
  {
   "cell_type": "code",
   "execution_count": 6,
   "id": "db472520-08cf-4739-a88d-53bd99a4428c",
   "metadata": {},
   "outputs": [
    {
     "name": "stdin",
     "output_type": "stream",
     "text": [
      "Enter your age 12\n"
     ]
    },
    {
     "name": "stdout",
     "output_type": "stream",
     "text": [
      "you are Under 18:\n"
     ]
    }
   ],
   "source": [
    "age = int(input(\"Enter your age\"))\n",
    "\n",
    "if age >= 18:\n",
    "    print(\"You are 18 or over 18\")\n",
    "else:\n",
    "    print(\"you are Under 18:\")\n"
   ]
  },
  {
   "cell_type": "code",
   "execution_count": 16,
   "id": "8fc16d10-f79b-49c3-b2b0-e5b43b4efddd",
   "metadata": {},
   "outputs": [],
   "source": [
    "\n",
    "\n",
    "\n",
    "# if bill amount greater than 50000 avail 10% discount\n",
    "\n",
    "\n",
    "\n"
   ]
  },
  {
   "cell_type": "code",
   "execution_count": 12,
   "id": "f59c68f4-71eb-432f-bae9-03db29629fe0",
   "metadata": {},
   "outputs": [
    {
     "name": "stdin",
     "output_type": "stream",
     "text": [
      "Enter your bill amount 51000\n"
     ]
    },
    {
     "name": "stdout",
     "output_type": "stream",
     "text": [
      "you got 10% discount\n",
      "your discount is RS:5100.0 on purchase of RS:51000\n"
     ]
    }
   ],
   "source": [
    "\n",
    "bill = int(input(\"Enter your bill amount\"))\n",
    "\n",
    "if bill >= 50000:\n",
    "    discount = bill * .10\n",
    "    print(\"you got 10% discount\")\n",
    "    print(f\"your discount is RS:{discount} on purchase of RS:{bill}\")\n",
    "else:\n",
    "    print(\"You loss discount\")"
   ]
  },
  {
   "cell_type": "code",
   "execution_count": null,
   "id": "142d7fc2-2a73-43c8-8789-8bd6a001061e",
   "metadata": {},
   "outputs": [],
   "source": [
    "\n",
    "\n",
    "\n",
    "# If salary id per annum 600000/= you will pay 5% income tax\n",
    "\n",
    "\n"
   ]
  },
  {
   "cell_type": "code",
   "execution_count": 27,
   "id": "bfc0e844-e229-4809-9786-0e53c2c24e24",
   "metadata": {},
   "outputs": [
    {
     "name": "stdin",
     "output_type": "stream",
     "text": [
      "Enter your salary 5\n"
     ]
    },
    {
     "name": "stdout",
     "output_type": "stream",
     "text": [
      "You are not applicable to pay tax\n"
     ]
    }
   ],
   "source": [
    "salary = int(input(\"Enter your salary\"))\n",
    "\n",
    "if salary >= 600000:\n",
    "    income_tax = salary * .05\n",
    "    net_salary = salary - income_tax\n",
    "    print(f\"your tax is {income_tax}\")\n",
    "    print(f\"Your net salary if {net_salary}\")\n",
    "else:\n",
    "    print(\"You are not applicable to pay tax\")"
   ]
  },
  {
   "cell_type": "code",
   "execution_count": null,
   "id": "dc212b87-7290-499f-becf-443f3e981e61",
   "metadata": {},
   "outputs": [],
   "source": [
    "# Tax aplicable\n",
    "# 0 - 600000 = 0%\n",
    "# 600000 - 1200000 = 5%\n",
    "# 12- 24 = 10% \n",
    "# above 24  = 15%\n",
    "\n",
    "\n"
   ]
  },
  {
   "cell_type": "code",
   "execution_count": 2,
   "id": "8464d7a8-2126-4f77-9c42-9e96e7f58ca1",
   "metadata": {},
   "outputs": [
    {
     "name": "stdin",
     "output_type": "stream",
     "text": [
      "Enter your salary 400000\n"
     ]
    },
    {
     "name": "stdout",
     "output_type": "stream",
     "text": [
      "You are not applicable to pay tax\n"
     ]
    }
   ],
   "source": [
    "salary = int(input(\"Enter your salary\"))\n",
    "\n",
    "if salary >= 2400000:\n",
    "    income_tax = salary * .05\n",
    "    net_salary = salary - income_tax\n",
    "    print(f\"your tax is {income_tax}\")\n",
    "    print(f\"Your net salary if {net_salary}\")\n",
    "elif salary >= 1200000:\n",
    "    income_tax = salary *.10\n",
    "    net_salary = salary - income_tax\n",
    "    print(f\"your tax is {income_tax}\")\n",
    "    print(f\"Your net salary if {net_salary}\")\n",
    "elif salary >= 600000:   \n",
    "    income_tax = salary * .15\n",
    "    net_salary = salary - income_tax\n",
    "    print(f\"your tax is {income_tax}\")\n",
    "    print(f\"Your net salary if {net_salary}\")\n",
    "else:\n",
    "    print(\"You are not applicable to pay tax\")"
   ]
  },
  {
   "cell_type": "code",
   "execution_count": null,
   "id": "712fa68b-22e6-457f-89ef-3463ffd61133",
   "metadata": {},
   "outputs": [],
   "source": []
  }
 ],
 "metadata": {
  "kernelspec": {
   "display_name": "Python 3 (ipykernel)",
   "language": "python",
   "name": "python3"
  },
  "language_info": {
   "codemirror_mode": {
    "name": "ipython",
    "version": 3
   },
   "file_extension": ".py",
   "mimetype": "text/x-python",
   "name": "python",
   "nbconvert_exporter": "python",
   "pygments_lexer": "ipython3",
   "version": "3.13.3"
  }
 },
 "nbformat": 4,
 "nbformat_minor": 5
}
