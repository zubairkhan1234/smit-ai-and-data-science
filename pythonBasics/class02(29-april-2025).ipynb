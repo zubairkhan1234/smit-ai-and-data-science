{
 "cells": [
  {
   "cell_type": "markdown",
   "id": "6b3948f4-324f-46d8-8ee3-c4d0868416ea",
   "metadata": {},
   "source": [
    "# Topics"
   ]
  },
  {
   "cell_type": "markdown",
   "id": "fe7eb539-64a1-40db-a595-3f0b2635ff4c",
   "metadata": {},
   "source": [
    "- print\n",
    "- operators\n",
    "- data types"
   ]
  },
  {
   "cell_type": "markdown",
   "id": "8c0ddc80-f813-4fb5-97a9-cb833630f454",
   "metadata": {},
   "source": [
    "## Print\n",
    "- print is a python built in function, that prints any valid values given to it. (values > arguments)\n",
    "- print can print any number of value comma seperated.\n",
    "- print can take no value"
   ]
  },
  {
   "cell_type": "markdown",
   "id": "e3f4c266-52a5-430d-9e8b-6462df094c51",
   "metadata": {},
   "source": [
    "- can be pass any type of value in the print \n",
    "    - number\n",
    "        - whole number = integer : int \n",
    "        - decimal number = float : float\n",
    "    - text\n",
    "        strint : any thing writen in the quotes ('A', \"a\", '''a''', \"\"\"A\"\"\")"
   ]
  },
  {
   "cell_type": "code",
   "execution_count": 3,
   "id": "44ef4879-3cd3-4587-9bc5-6a0744cde9c6",
   "metadata": {},
   "outputs": [
    {
     "name": "stdout",
     "output_type": "stream",
     "text": [
      "can not write it with capita P\n",
      "can not write PRINT with capital alphabet \n",
      "can write print with small alphabet\n",
      "should be end with smap alpha bet\n"
     ]
    }
   ],
   "source": [
    "# Example\n",
    "\n",
    "print('can not write it with capita P') # in the single qoutes\n",
    "print(\"can not write PRINT with capital alphabet \") # in the double qoutes\n",
    "print('''can write print with small alphabet''') # in the single triple quotes\n",
    "print(\"\"\"should be end with smap alpha bet\"\"\") # in the double triple quotes"
   ]
  },
  {
   "cell_type": "markdown",
   "id": "6e6881d2-8848-478e-b304-fe8ae1f5d48b",
   "metadata": {},
   "source": [
    "## wrong syntax of print"
   ]
  },
  {
   "cell_type": "raw",
   "id": "45750380-301b-495a-877b-10b5ea6537a5",
   "metadata": {},
   "source": [
    "-- we can not line break in the print\n",
    "\n",
    "    - print(\"Line break not \n",
    "            allowed in the print\")\n",
    "\n",
    "    - PRINT(\"can not write PRINT with capital alphabet \")\n",
    "\n",
    "    - Print('can not write it with capita P')"
   ]
  },
  {
   "cell_type": "code",
   "execution_count": 5,
   "id": "c0eb6be2-0411-4958-947c-946be6b29c25",
   "metadata": {},
   "outputs": [
    {
     "ename": "SyntaxError",
     "evalue": "unterminated string literal (detected at line 1) (1138258520.py, line 1)",
     "output_type": "error",
     "traceback": [
      "  \u001b[36mCell\u001b[39m\u001b[36m \u001b[39m\u001b[32mIn[5]\u001b[39m\u001b[32m, line 1\u001b[39m\n\u001b[31m    \u001b[39m\u001b[31m- print(\"Line break not\u001b[39m\n            ^\n\u001b[31mSyntaxError\u001b[39m\u001b[31m:\u001b[39m unterminated string literal (detected at line 1)\n"
     ]
    }
   ],
   "source": [
    "- print(\"Line break not \n",
    "            allowed in the print\")"
   ]
  },
  {
   "cell_type": "code",
   "execution_count": 6,
   "id": "38fa62dc-648b-4b7b-b76e-ef4baa176fee",
   "metadata": {},
   "outputs": [
    {
     "ename": "NameError",
     "evalue": "name 'PRINT' is not defined",
     "output_type": "error",
     "traceback": [
      "\u001b[31m---------------------------------------------------------------------------\u001b[39m",
      "\u001b[31mNameError\u001b[39m                                 Traceback (most recent call last)",
      "\u001b[36mCell\u001b[39m\u001b[36m \u001b[39m\u001b[32mIn[6]\u001b[39m\u001b[32m, line 1\u001b[39m\n\u001b[32m----> \u001b[39m\u001b[32m1\u001b[39m \u001b[43mPRINT\u001b[49m(\u001b[33m\"\u001b[39m\u001b[33mcan not write PRINT with capital alphabet \u001b[39m\u001b[33m\"\u001b[39m)\n",
      "\u001b[31mNameError\u001b[39m: name 'PRINT' is not defined"
     ]
    }
   ],
   "source": [
    "PRINT(\"can not write PRINT with capital alphabet \")"
   ]
  },
  {
   "cell_type": "code",
   "execution_count": 8,
   "id": "eddedd0b-b03a-402d-a5f7-c585993da01d",
   "metadata": {},
   "outputs": [
    {
     "ename": "NameError",
     "evalue": "name 'Print' is not defined",
     "output_type": "error",
     "traceback": [
      "\u001b[31m---------------------------------------------------------------------------\u001b[39m",
      "\u001b[31mNameError\u001b[39m                                 Traceback (most recent call last)",
      "\u001b[36mCell\u001b[39m\u001b[36m \u001b[39m\u001b[32mIn[8]\u001b[39m\u001b[32m, line 1\u001b[39m\n\u001b[32m----> \u001b[39m\u001b[32m1\u001b[39m \u001b[43mPrint\u001b[49m(\u001b[33m'\u001b[39m\u001b[33mcan not write it with capita P\u001b[39m\u001b[33m'\u001b[39m)\n",
      "\u001b[31mNameError\u001b[39m: name 'Print' is not defined"
     ]
    }
   ],
   "source": [
    "Print('can not write it with capita P')"
   ]
  },
  {
   "cell_type": "markdown",
   "id": "2a3857b9-f76b-4bc7-a6ec-b7e5077ff7e8",
   "metadata": {},
   "source": [
    "### For line break\n",
    "- we can use single quotes with trips quotation ''' a '''\n",
    "- we can use double quotes with trips quotation \"\"\" A \"\"\""
   ]
  },
  {
   "cell_type": "code",
   "execution_count": 9,
   "id": "9d316311-1dc4-4958-a6d0-b2dfb44257db",
   "metadata": {},
   "outputs": [
    {
     "name": "stdout",
     "output_type": "stream",
     "text": [
      "\" hello world \n",
      "line break\n"
     ]
    }
   ],
   "source": [
    "print(\"\"\"\" hello world \n",
    "line break\"\"\")"
   ]
  },
  {
   "cell_type": "code",
   "execution_count": 10,
   "id": "934f3400-c43c-4516-b499-03dca7b11735",
   "metadata": {},
   "outputs": [
    {
     "name": "stdout",
     "output_type": "stream",
     "text": [
      " hello work \n",
      "line brek\n"
     ]
    }
   ],
   "source": [
    "print(''' hello work \n",
    "line brek''')"
   ]
  },
  {
   "cell_type": "markdown",
   "id": "a86fa9f2-ff86-4a42-a507-44a294a2b40e",
   "metadata": {},
   "source": [
    "### Multiple print in a sigle line\n",
    "- we can print in single line multiple print"
   ]
  },
  {
   "cell_type": "code",
   "execution_count": 14,
   "id": "a7c9f424-ab9f-4ab7-8fed-e540d3adc4ce",
   "metadata": {},
   "outputs": [
    {
     "name": "stdout",
     "output_type": "stream",
     "text": [
      "This\n",
      "is\n",
      "zubair\n",
      "\n",
      "This is zubair\n"
     ]
    }
   ],
   "source": [
    "# Whout end parameter\n",
    "print(\"This\")\n",
    "print('is')\n",
    "print('zubair')\n",
    "print('')\n",
    "\n",
    "# Whith end parameter \n",
    "print('This', end=\" \")\n",
    "print('is', end=\" \")\n",
    "print('zubair')"
   ]
  },
  {
   "cell_type": "markdown",
   "id": "f77d507d-2894-4580-9768-ca1ccd2760be",
   "metadata": {},
   "source": [
    "# Operators"
   ]
  },
  {
   "cell_type": "raw",
   "id": "79ed9e0c-87c9-448e-9034-a53665f9cee3",
   "metadata": {},
   "source": [
    "\n",
    "    # Arithmetic operators\n",
    "        - Add (+)\n",
    "        - Subtract (-)\n",
    "        - Muptiply (*) \n",
    "        - Devide (/)\n",
    "        - Devide (//)\n",
    "        - Modules (%)\n",
    "        - Powers (**)\n",
    "    # Comperation Operator\n",
    "        - Greater than (>)\n",
    "        - Less than (<)\n",
    "        - Greate Than and equal to (>=) \n",
    "        - Less than and equal to (<=)\n",
    "        - Equal to (==)\n",
    "        - Not equal to (!=')\n",
    "    ## Identify operators\n",
    "        - is\n",
    "    ## Membership operatoes\n",
    "        - in\n",
    "    ## Logical operators\n",
    "        - and\n",
    "        - in\n",
    "        - or\n",
    "    ## bitwise operators\n",
    "\n"
   ]
  },
  {
   "cell_type": "markdown",
   "id": "ab448d5e-337e-4723-bd7a-dd0fd7c8f81d",
   "metadata": {},
   "source": [
    "# Arithmetic operators"
   ]
  },
  {
   "cell_type": "code",
   "execution_count": 16,
   "id": "8fdf55cc-f492-4967-b394-7e3a6eb1d3d2",
   "metadata": {},
   "outputs": [
    {
     "name": "stdout",
     "output_type": "stream",
     "text": [
      "2 + 2 => resutl =>  4\n"
     ]
    }
   ],
   "source": [
    "# Add\n",
    "print(\"2 + 2 => resutl => \", 2 + 2)"
   ]
  },
  {
   "cell_type": "code",
   "execution_count": 17,
   "id": "05e38945-b0b7-4982-a6e0-d6e3ef88cadc",
   "metadata": {},
   "outputs": [
    {
     "name": "stdout",
     "output_type": "stream",
     "text": [
      "2 - 2 => resutl =>  0\n"
     ]
    }
   ],
   "source": [
    "# Subtract \n",
    "print(\"2 - 2 => resutl => \", 2 - 2)"
   ]
  },
  {
   "cell_type": "code",
   "execution_count": 19,
   "id": "a26af4c0-ce7c-499f-a6b0-8a72dd8b037c",
   "metadata": {},
   "outputs": [
    {
     "name": "stdout",
     "output_type": "stream",
     "text": [
      "2 * 2 => resutl =>  4\n"
     ]
    }
   ],
   "source": [
    "# Multiply\n",
    "print(\"2 * 2 => resutl => \", 2 * 2)"
   ]
  },
  {
   "cell_type": "code",
   "execution_count": 20,
   "id": "5e2aa551-b606-495a-8f8b-9c705d6cbf04",
   "metadata": {},
   "outputs": [
    {
     "name": "stdout",
     "output_type": "stream",
     "text": [
      "4 / 4 => resutl =>  1.0\n"
     ]
    }
   ],
   "source": [
    "# Devide\n",
    "print(\"4 / 4 => resutl => \", 4 / 4)"
   ]
  },
  {
   "cell_type": "code",
   "execution_count": 22,
   "id": "bb3b23f6-883e-4f30-997f-bb304ddc97ae",
   "metadata": {},
   "outputs": [
    {
     "name": "stdout",
     "output_type": "stream",
     "text": [
      "2 // 2 => resutl =>  7\n"
     ]
    }
   ],
   "source": [
    "# floor division\n",
    "print(\"2 // 2 => resutl => \", 15 // 2)"
   ]
  },
  {
   "cell_type": "code",
   "execution_count": 24,
   "id": "f0d9691c-2150-478b-b86a-d02cf6740079",
   "metadata": {},
   "outputs": [
    {
     "name": "stdout",
     "output_type": "stream",
     "text": [
      "4 ** 4 => resutl =>  256\n"
     ]
    }
   ],
   "source": [
    "print(\"4 ** 4 => resutl => \", 4 ** 4)"
   ]
  },
  {
   "cell_type": "markdown",
   "id": "0b160de7-341b-4964-a6a9-8c2907b14de7",
   "metadata": {},
   "source": [
    "# Comperison Operators"
   ]
  },
  {
   "cell_type": "code",
   "execution_count": 26,
   "id": "7ccb6e5b-9839-455f-8653-ff8af9490a9b",
   "metadata": {},
   "outputs": [
    {
     "name": "stdout",
     "output_type": "stream",
     "text": [
      "4 > 2 => resutl =>  True\n"
     ]
    }
   ],
   "source": [
    "print(\"4 > 2 => resutl => \", 4 > 2)"
   ]
  },
  {
   "cell_type": "code",
   "execution_count": 28,
   "id": "513f72e4-894e-4f09-bd82-21b16cf0fb41",
   "metadata": {},
   "outputs": [
    {
     "name": "stdout",
     "output_type": "stream",
     "text": [
      "4 < 2 => resutl =>  False\n"
     ]
    }
   ],
   "source": [
    "print(\"4 < 2 => resutl => \", 4 < 2)"
   ]
  },
  {
   "cell_type": "code",
   "execution_count": 29,
   "id": "5dd8842c-5b08-4a98-a039-f668b610608d",
   "metadata": {},
   "outputs": [
    {
     "name": "stdout",
     "output_type": "stream",
     "text": [
      "4 == 2 => resutl =>  False\n"
     ]
    }
   ],
   "source": [
    "print(\"4 == 2 => resutl => \", 4 == 2)"
   ]
  },
  {
   "cell_type": "code",
   "execution_count": 30,
   "id": "5c6e0245-44c7-45cd-8093-6a809a5c24f9",
   "metadata": {},
   "outputs": [
    {
     "name": "stdout",
     "output_type": "stream",
     "text": [
      "4 == 4 => resutl =>  True\n"
     ]
    }
   ],
   "source": [
    "print(\"4 == 4 => resutl => \", 4 == 4)"
   ]
  },
  {
   "cell_type": "code",
   "execution_count": 32,
   "id": "a6ba7a53-1797-495f-9671-a226d754cd74",
   "metadata": {},
   "outputs": [
    {
     "name": "stdout",
     "output_type": "stream",
     "text": [
      "4 != 2 => resutl =>  True\n"
     ]
    }
   ],
   "source": [
    "print(\"4 != 2 => resutl => \", 4 != 2)"
   ]
  },
  {
   "cell_type": "code",
   "execution_count": 35,
   "id": "5bce1545-fd87-4f69-a5a3-634637856f2c",
   "metadata": {},
   "outputs": [
    {
     "name": "stdout",
     "output_type": "stream",
     "text": [
      "4 != 4 => resutl =>  False\n"
     ]
    }
   ],
   "source": [
    "print(\"4 != 4 => resutl => \", 4 != 4)"
   ]
  },
  {
   "cell_type": "markdown",
   "id": "31da7907-26ca-4129-9d03-48c394d38004",
   "metadata": {},
   "source": [
    "# Logical Operaotrs"
   ]
  },
  {
   "cell_type": "raw",
   "id": "6f649c0e-21ba-4bdc-a348-bbd21d863f88",
   "metadata": {},
   "source": [
    "\n",
    "    # OR ko sirf ek TRUE chahye hota hy True hone k liye\n",
    "    Condition1    OR     Condition2     Response\n",
    "    True                 True           True\n",
    "    True                 False          True\n",
    "    False                True           True\n",
    "    False                False          False\n",
    "    \n",
    "    # AND ko sirf ek False chahye hota hy False hone k liye\n",
    "    Condition1    AND     Condition2     Response\n",
    "    True                  True           True\n",
    "    True                  False          False\n",
    "    False                 True           False\n",
    "    False                 False          False"
   ]
  },
  {
   "cell_type": "code",
   "execution_count": 34,
   "id": "0f5671e9-264c-4c92-b1c3-1a011dcd441e",
   "metadata": {},
   "outputs": [
    {
     "name": "stdout",
     "output_type": "stream",
     "text": [
      "(12 > 100)     or     (200 < 100) => resutl =>  False\n"
     ]
    }
   ],
   "source": [
    "print(\"(12 > 100)     or     (200 < 100) => resutl => \", (12 > 100)     or     (200 < 100))"
   ]
  },
  {
   "cell_type": "code",
   "execution_count": 36,
   "id": "cb1004e0-6f99-49e8-9d1d-62b7374a9deb",
   "metadata": {},
   "outputs": [
    {
     "name": "stdout",
     "output_type": "stream",
     "text": [
      "(12 > 10)     and   (200 < 100) => resutl =>  False\n"
     ]
    }
   ],
   "source": [
    "print(\"(12 > 10)     and   (200 < 100) => resutl => \", (12 > 10)     and   (200 < 100))"
   ]
  },
  {
   "cell_type": "code",
   "execution_count": null,
   "id": "9c0508d8-0ec9-4fe6-9a48-8d0e7586fd5f",
   "metadata": {},
   "outputs": [],
   "source": []
  },
  {
   "cell_type": "code",
   "execution_count": null,
   "id": "27a11a04-0b48-4183-aaa8-c6ea16caa717",
   "metadata": {},
   "outputs": [],
   "source": []
  },
  {
   "cell_type": "code",
   "execution_count": null,
   "id": "e5e897af-17e2-492f-943c-ab6d0bf5f982",
   "metadata": {},
   "outputs": [],
   "source": []
  }
 ],
 "metadata": {
  "kernelspec": {
   "display_name": "Python 3 (ipykernel)",
   "language": "python",
   "name": "python3"
  },
  "language_info": {
   "codemirror_mode": {
    "name": "ipython",
    "version": 3
   },
   "file_extension": ".py",
   "mimetype": "text/x-python",
   "name": "python",
   "nbconvert_exporter": "python",
   "pygments_lexer": "ipython3",
   "version": "3.13.3"
  }
 },
 "nbformat": 4,
 "nbformat_minor": 5
}
