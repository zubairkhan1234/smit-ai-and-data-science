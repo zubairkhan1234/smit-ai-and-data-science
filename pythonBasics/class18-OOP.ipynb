{
 "cells": [
  {
   "cell_type": "markdown",
   "id": "89da753c-4daf-4f58-8564-769b412fb81f",
   "metadata": {},
   "source": [
    "# OOP (object oriented programing)"
   ]
  },
  {
   "cell_type": "markdown",
   "id": "d519f325-dad4-48fc-bc24-152db48b135b",
   "metadata": {},
   "source": [
    "# Classes and Object"
   ]
  },
  {
   "cell_type": "code",
   "execution_count": 13,
   "id": "d6dd7399-9c61-4a90-9e05-f6002fcd0ea8",
   "metadata": {},
   "outputs": [],
   "source": [
    "class Computer:\n",
    "    ram            = \"GB\"\n",
    "    processor      = 'intel corei9'\n",
    "    storage        = '1TB'\n",
    "    price          = 'HP'\n",
    "    model          = 60000\n",
    "\n",
    "\n",
    "    # action / behavior\n",
    "    def coding(self):\n",
    "        print('Coding....')\n",
    "    def designing(self):\n",
    "        print('Designing...')\n",
    "    def browsing(self):\n",
    "        print('Browsing...')\n",
    "        "
   ]
  },
  {
   "cell_type": "code",
   "execution_count": 14,
   "id": "cb570a58-dedb-4d3b-aaf8-5d35fae09df8",
   "metadata": {},
   "outputs": [
    {
     "data": {
      "text/plain": [
       "type"
      ]
     },
     "execution_count": 14,
     "metadata": {},
     "output_type": "execute_result"
    }
   ],
   "source": [
    "type(Computer)"
   ]
  },
  {
   "cell_type": "code",
   "execution_count": 15,
   "id": "11ba6237-cf74-4fcd-9d50-55a918eb47da",
   "metadata": {},
   "outputs": [],
   "source": [
    "#  Object is an instance of class\n",
    "#  It will be a copy of class\n",
    "#  It will follow its class\n",
    "\n",
    "com1 = Computer()\n",
    "com2 = Computer()\n",
    "com3 = Computer()"
   ]
  },
  {
   "cell_type": "code",
   "execution_count": 16,
   "id": "57d4ad90-5c40-430c-8d07-e51cca904a4f",
   "metadata": {},
   "outputs": [
    {
     "data": {
      "text/plain": [
       "'HP'"
      ]
     },
     "execution_count": 16,
     "metadata": {},
     "output_type": "execute_result"
    }
   ],
   "source": [
    "com1.price"
   ]
  },
  {
   "cell_type": "code",
   "execution_count": 17,
   "id": "daacef05-bae8-4395-8d37-69f9ea456f77",
   "metadata": {},
   "outputs": [
    {
     "name": "stdout",
     "output_type": "stream",
     "text": [
      "Coding....\n"
     ]
    }
   ],
   "source": [
    "com1.coding()"
   ]
  },
  {
   "cell_type": "markdown",
   "id": "f367c35b-b930-4579-b483-d1951f40bb38",
   "metadata": {},
   "source": []
  },
  {
   "cell_type": "code",
   "execution_count": 39,
   "id": "e0447208-bb79-4fe0-bfe4-d2dd1793f2dd",
   "metadata": {},
   "outputs": [],
   "source": [
    "class Computer():\n",
    "    # initializer / consturctor\n",
    "    def __init__(self, model, price, name, processor, storage):\n",
    "    #  charactistics / propertiesm / attributes  variable\n",
    "\n",
    "        self.model = model\n",
    "        self.price = price\n",
    "        self.storage = storage \n",
    "        self.processor = processor\n",
    "        self.name = name\n",
    "\n",
    "\n",
    "    \n",
    "    # action / behavior\n",
    "    def coding(self):\n",
    "        print(f'Coding.... {self.name}')\n",
    "    def designing(self):\n",
    "        print('Designing...')\n",
    "    def browsing(self):\n",
    "        print('Browsing...')\n",
    "        "
   ]
  },
  {
   "cell_type": "code",
   "execution_count": 40,
   "id": "a1ec1d51-4742-4fa4-b272-9ade791a50d8",
   "metadata": {},
   "outputs": [
    {
     "ename": "TypeError",
     "evalue": "Computer.__init__() missing 5 required positional arguments: 'model', 'price', 'name', 'processor', and 'storage'",
     "output_type": "error",
     "traceback": [
      "\u001b[31m---------------------------------------------------------------------------\u001b[39m",
      "\u001b[31mTypeError\u001b[39m                                 Traceback (most recent call last)",
      "\u001b[36mCell\u001b[39m\u001b[36m \u001b[39m\u001b[32mIn[40]\u001b[39m\u001b[32m, line 1\u001b[39m\n\u001b[32m----> \u001b[39m\u001b[32m1\u001b[39m \u001b[43mComputer\u001b[49m\u001b[43m(\u001b[49m\u001b[43m   \u001b[49m\u001b[43m)\u001b[49m\n",
      "\u001b[31mTypeError\u001b[39m: Computer.__init__() missing 5 required positional arguments: 'model', 'price', 'name', 'processor', and 'storage'"
     ]
    }
   ],
   "source": [
    " Computer(   )"
   ]
  },
  {
   "cell_type": "code",
   "execution_count": 41,
   "id": "6b6b7273-b900-4d6d-be70-75fd4b478459",
   "metadata": {},
   "outputs": [],
   "source": [
    "c1 = Computer('probook',  10000, 'HP', 'corei9', '1TB') "
   ]
  },
  {
   "cell_type": "code",
   "execution_count": 45,
   "id": "f3e4927d-9bdb-4782-b9f6-764bbd30ce89",
   "metadata": {},
   "outputs": [],
   "source": [
    "c2 = Computer('probook',  10000, 'Dell', 'corei9', '1TB') "
   ]
  },
  {
   "cell_type": "code",
   "execution_count": 46,
   "id": "9b02c433-e764-4be4-a7a2-d3d3ea8e064c",
   "metadata": {},
   "outputs": [
    {
     "name": "stdout",
     "output_type": "stream",
     "text": [
      "Coding.... HP\n"
     ]
    }
   ],
   "source": [
    "c1.coding()"
   ]
  },
  {
   "cell_type": "code",
   "execution_count": 47,
   "id": "30bd1c1d-ca0c-4cb2-b1de-8f59715ebb03",
   "metadata": {},
   "outputs": [
    {
     "name": "stdout",
     "output_type": "stream",
     "text": [
      "Coding.... Dell\n"
     ]
    }
   ],
   "source": [
    "c2.coding()"
   ]
  },
  {
   "cell_type": "markdown",
   "id": "18af2805-c3f8-4dcf-96f1-078e0aadebc7",
   "metadata": {},
   "source": [
    "# 4 piller of OOP\n",
    "    - Encapsulation\n",
    "    - Inheritance\n",
    "    - Polymorphism\n",
    "    - Abstraction"
   ]
  },
  {
   "cell_type": "code",
   "execution_count": null,
   "id": "8d8102d6-e533-44ec-9d56-6d36133faf30",
   "metadata": {},
   "outputs": [],
   "source": []
  },
  {
   "cell_type": "code",
   "execution_count": null,
   "id": "01134482-066e-4505-85cf-83c430640872",
   "metadata": {},
   "outputs": [],
   "source": [
    " "
   ]
  }
 ],
 "metadata": {
  "kernelspec": {
   "display_name": "Python 3 (ipykernel)",
   "language": "python",
   "name": "python3"
  },
  "language_info": {
   "codemirror_mode": {
    "name": "ipython",
    "version": 3
   },
   "file_extension": ".py",
   "mimetype": "text/x-python",
   "name": "python",
   "nbconvert_exporter": "python",
   "pygments_lexer": "ipython3",
   "version": "3.13.3"
  }
 },
 "nbformat": 4,
 "nbformat_minor": 5
}
