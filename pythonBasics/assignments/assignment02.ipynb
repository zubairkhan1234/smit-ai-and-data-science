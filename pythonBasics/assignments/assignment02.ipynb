{
 "cells": [
  {
   "cell_type": "markdown",
   "id": "20659136-e623-40a9-a809-ffca7c039f89",
   "metadata": {},
   "source": [
    "# 1) Area of a Rectangle "
   ]
  },
  {
   "cell_type": "code",
   "execution_count": 1,
   "id": "5d8cd35b-a40d-4a30-af95-9f30a3b00194",
   "metadata": {},
   "outputs": [
    {
     "name": "stdin",
     "output_type": "stream",
     "text": [
      "Enter the length of the rectangle \n"
     ]
    },
    {
     "name": "stdout",
     "output_type": "stream",
     "text": [
      "Enter only number <class 'ValueError'> \n"
     ]
    }
   ],
   "source": [
    "# Write a python program to calculate the area of rectangle. Use the formula\n",
    "#  Area = lenght * width\n",
    "# take length and width as input from the user \n",
    "\n",
    "try:\n",
    "    length = int(input(\"Enter the length of the rectangle\"))\n",
    "    width = int(input(\"Enter the width of the rectangle\"))\n",
    "    \n",
    "    # formula => area = length * width\n",
    "    \n",
    "    area = length * width\n",
    "    \n",
    "    print(f\"The size of the rectangle is {area}\")\n",
    "except ValueError:\n",
    "    print(f\"Enter only number {ValueError} \")"
   ]
  },
  {
   "cell_type": "markdown",
   "id": "304cf57d-213e-41b2-94d9-61b3ddd839a0",
   "metadata": {},
   "source": [
    "# 2) Circumference of a Circle "
   ]
  },
  {
   "cell_type": "code",
   "execution_count": 16,
   "id": "0fdbd1bc-4f94-4721-bc0f-88ff6d23d30e",
   "metadata": {},
   "outputs": [
    {
     "name": "stdin",
     "output_type": "stream",
     "text": [
      "Enter radius of the circle. \n"
     ]
    },
    {
     "name": "stdout",
     "output_type": "stream",
     "text": [
      "Enter only Integer values\n"
     ]
    }
   ],
   "source": [
    "# Write a Python program to calculate the circumference of a circle. Use the formula:\n",
    "    # 𝑪𝒊𝒓𝒄𝒖𝒎𝒇𝒆𝒓𝒆𝒏𝒄𝒆 = 𝟐𝝅𝒓\n",
    "# Take the radius r as input from the user.\n",
    "# r(radius)\n",
    "\n",
    "import math\n",
    "\n",
    "try:\n",
    "    radius = int(input(\"Enter radius of the circle.\"))\n",
    "    \n",
    "    circumference = 2 * math.pi * radius\n",
    "    \n",
    "    print(f\"circumference of a circle {circumference}\")\n",
    "\n",
    "except ValueError:\n",
    "    print(\"Enter only Integer values\")\n",
    "          \n",
    "\n"
   ]
  },
  {
   "cell_type": "markdown",
   "id": "262f5dc8-5c94-4846-93df-68cedfa26168",
   "metadata": {},
   "source": [
    "# 3) Simple Interest"
   ]
  },
  {
   "cell_type": "code",
   "execution_count": 1,
   "id": "40a4ee2e-4901-48ca-b8c7-b64496bae17a",
   "metadata": {},
   "outputs": [
    {
     "name": "stdin",
     "output_type": "stream",
     "text": [
      "Enter pricinpal in integer number \n"
     ]
    },
    {
     "name": "stdout",
     "output_type": "stream",
     "text": [
      "Please enter valid numbers. Principal and time must be integers. Rate must be a float (e.g., 5.5).\n"
     ]
    }
   ],
   "source": [
    "# Write a Python program to calculate the simple interest. Use the formula:\n",
    "# 𝑺𝒊𝒎𝒑𝒍𝒆 𝑰𝒏𝒕𝒆𝒓𝒆𝒔𝒕 = 𝑷𝒓𝒊𝒏𝒄𝒊𝒑𝒂𝒍 × 𝑹𝒂𝒕𝒆 × 𝑻𝒊𝒎𝒆\n",
    "# Take Principal, Rate, and Time as inputs from the user. \n",
    "\n",
    "# principal integer number\n",
    "# rate in float value\n",
    "# time in a year with integer value\n",
    "\n",
    "try:\n",
    "    principal = int(input(\"Enter pricinpal in integer number\"))\n",
    "    rate = float(input(\"Enter rate in decimal number\"))\n",
    "    time = int(input(\"Enter time in years\"))\n",
    "    simple_interest = (principal * rate * time) / 100\n",
    "    print(\"simple interest\", simple_interest)\n",
    "\n",
    "except ValueError as e:\n",
    "    print(\"Please enter valid numbers. Principal and time must be integers. Rate must be a float (e.g., 5.5).\")\n"
   ]
  },
  {
   "cell_type": "markdown",
   "id": "bb955960-85b6-429d-8f04-f5ef77cb0c92",
   "metadata": {},
   "source": [
    "# 4) Speed of an Object"
   ]
  },
  {
   "cell_type": "code",
   "execution_count": 6,
   "id": "4c57bbfb-f7b1-4beb-9eb5-61028db4f283",
   "metadata": {},
   "outputs": [
    {
     "name": "stdin",
     "output_type": "stream",
     "text": [
      "Enter distance in Km(kilomete)  \n"
     ]
    },
    {
     "name": "stdout",
     "output_type": "stream",
     "text": [
      "only integer number are allowed\n"
     ]
    }
   ],
   "source": [
    "# Write a Python program to calculate the speed of an object. Use the formula:  \n",
    "#     s𝒑𝒆𝒆𝒅 = 𝑫𝒊𝒔𝒕𝒂𝒏𝒄𝒆 /    𝑻𝒊𝒎𝒆  \n",
    "# Take Distance and Time as inputs from the user.\n",
    "\n",
    "try:\n",
    "    distance = int(input(\"Enter distance in Km(kilomete) \"))\n",
    "    time  = int(input(\"Enter a time in Hour\"))\n",
    "    \n",
    "    \n",
    "    speed = distance/ time\n",
    "    \n",
    "    print(\"Speend is\", speed)\n",
    "except ValueError:\n",
    "    print(\"only integer number are allowed\")\n"
   ]
  },
  {
   "cell_type": "markdown",
   "id": "fcdb0a79-4fb7-41c0-a1ed-deb0ad0cfab2",
   "metadata": {},
   "source": [
    "# 5) BMI Calculator"
   ]
  },
  {
   "cell_type": "code",
   "execution_count": 19,
   "id": "f8cee198-b7ab-4d80-a4f0-bd1d9d5ad185",
   "metadata": {},
   "outputs": [
    {
     "name": "stdin",
     "output_type": "stream",
     "text": [
      "Enter heigt in float number 1.9812\n",
      "Enter weight in kg 65\n"
     ]
    },
    {
     "name": "stdout",
     "output_type": "stream",
     "text": [
      "BMI is =>  16.559862179553416\n"
     ]
    }
   ],
   "source": [
    "# Write a Python program to calculate the Body Mass Index (BMI). Use the formula:  \n",
    "\n",
    "# BMI= height (m)2 / weight (kg)\n",
    "\n",
    "# Take Weight (in kilograms) and Height (in meters) as inputs from the user.\n",
    "\n",
    "from math import sqrt  \n",
    "\n",
    "height = float(input(\"Enter heigt in float number\"))\n",
    "weight = float(input(\"Enter weight in kg\"))\n",
    "\n",
    "bmi = weight / (height ** 2)\n",
    "print(\"BMI is => \", bmi)"
   ]
  },
  {
   "cell_type": "markdown",
   "id": "b94e6c1c-51eb-4dd6-9a20-f029f315c044",
   "metadata": {},
   "source": [
    "# 6) Force Using Newton's Second Law"
   ]
  },
  {
   "cell_type": "code",
   "execution_count": 22,
   "id": "a4deaadc-3f5d-4afa-b83a-7fd532f3f715",
   "metadata": {},
   "outputs": [
    {
     "name": "stdin",
     "output_type": "stream",
     "text": [
      "Enter a mass in kg sd\n"
     ]
    },
    {
     "name": "stdout",
     "output_type": "stream",
     "text": [
      "only integer values are allowed\n"
     ]
    }
   ],
   "source": [
    "# Write a Python program to calculate the force on an object. Use the formula: \n",
    "# f = ma\n",
    "# Take m (mass in kilograms) and a (acceleration in meters/second²) as inputs from the \n",
    "# user.\n",
    "\n",
    "try:\n",
    "    m = int(input(\"Enter a mass in kg\"))\n",
    "    a = int(input(\"acceleration in meters/second²\"))\n",
    "    \n",
    "    force = m * a\n",
    "    \n",
    "    print(\"Force is \", force)\n",
    "except ValueError:\n",
    "    print(\"only integer values are allowed\")\n",
    "    "
   ]
  },
  {
   "cell_type": "markdown",
   "id": "3a099a68-cf78-426d-a9b6-f603c7fc8e25",
   "metadata": {},
   "source": [
    "# 7) Compound Interest"
   ]
  },
  {
   "cell_type": "code",
   "execution_count": 1,
   "id": "65f6db24-f273-4a09-a327-61205d841de8",
   "metadata": {},
   "outputs": [
    {
     "name": "stdin",
     "output_type": "stream",
     "text": [
      "Enter principle amount 12\n",
      "Enter annual enterest rate (decimal) 12\n",
      "Enter number of times 12\n",
      "Enter time in years 12\n"
     ]
    },
    {
     "name": "stdout",
     "output_type": "stream",
     "text": [
      "Compiund interest is  12.0\n"
     ]
    }
   ],
   "source": [
    "# Write a Python program to calculate compound interest. Use the formula:  \n",
    "\n",
    "#     ** =>  used for root\n",
    "\n",
    "#     formula = A = p * (1 + r/n) ** (n-t)\n",
    "\n",
    "# Where: \n",
    "# A= total amount \n",
    "# P = principal amount \n",
    "# r = annual interest rate (decimal) \n",
    "# n = number of times interest is compounded per year \n",
    "# t = time in years \n",
    "# Take P, r, n, and t as inputs from the user.\n",
    "\n",
    "p = int(input(\"Enter principle amount\"))\n",
    "r = float(input(\"Enter annual enterest rate (decimal)\")) \n",
    "n = int(input(\"Enter number of times\"))\n",
    "t = int(input(\"Enter time in years\"))\n",
    "\n",
    "\n",
    "A = p * (1 + r/n) ** (n-t)\n",
    "\n",
    "print(\"Compiund interest is \", A )\n",
    "\n"
   ]
  },
  {
   "cell_type": "markdown",
   "id": "eca54fbf-33c3-4fa9-9e39-e96321cd96a0",
   "metadata": {},
   "source": [
    "# 8) PerimeterofaTriangle"
   ]
  },
  {
   "cell_type": "code",
   "execution_count": 3,
   "id": "5dfad035-1b6f-49a4-bfcb-a2aead1e41f5",
   "metadata": {},
   "outputs": [
    {
     "name": "stdin",
     "output_type": "stream",
     "text": [
      "Enter a value 12\n",
      "Enter b value 12\n",
      "Enter c value 12\n"
     ]
    },
    {
     "name": "stdout",
     "output_type": "stream",
     "text": [
      "perimeter value 36\n"
     ]
    }
   ],
   "source": [
    "# Write a Python program to calculate the perimeter of a triangle. Use the formula:\n",
    "# 𝑷𝒆𝒓𝒊𝒎𝒆𝒕𝒆𝒓 = 𝒂 + 𝒃 + 𝒄\n",
    "# Take a, b, and c (lengths of the three sides) as inputs from the user.\n",
    "\n",
    "a = int(input(\"Enter a value\"))\n",
    "b = int(input(\"Enter b value\"))\n",
    "c = int(input(\"Enter c value\"))\n",
    "\n",
    "perimeter = a + b + c\n",
    "\n",
    "print(\"perimeter value\", perimeter )"
   ]
  },
  {
   "cell_type": "markdown",
   "id": "7251b9c7-8180-4370-a8fe-2530e1c031c6",
   "metadata": {},
   "source": [
    "# 9) VolumeofaSphere"
   ]
  },
  {
   "cell_type": "code",
   "execution_count": 4,
   "id": "98a0332b-cebe-4050-b31f-d1a20bbfceac",
   "metadata": {},
   "outputs": [
    {
     "name": "stdin",
     "output_type": "stream",
     "text": [
      "Enter a radius value 5\n"
     ]
    },
    {
     "name": "stdout",
     "output_type": "stream",
     "text": [
      "Result :  523.5987755982989\n"
     ]
    }
   ],
   "source": [
    "# Write a Python program to calculate the volume of a sphere. Use the formula:\n",
    "#  Volume = 4/3 * 𝝅 * 𝒓  ** 3\n",
    "# Take r (radius) as input from the user.\n",
    "\n",
    "\n",
    "import math\n",
    "\n",
    "radius = int(input(\"Enter a radius value\"))\n",
    "\n",
    "# Volume = 4/3 * 𝝅 * 𝒓  ** 3\n",
    "\n",
    "Volume = 4/3 * math.pi * (radius ** 3)\n",
    "\n",
    "print(\"Result : \", Volume)"
   ]
  },
  {
   "cell_type": "markdown",
   "id": "12591fde-28cb-4896-9cbf-425523753d15",
   "metadata": {},
   "source": [
    "# 10) Kinetic Energy"
   ]
  },
  {
   "cell_type": "code",
   "execution_count": 26,
   "id": "00ee1935-4afe-4c69-99c5-0bd635463891",
   "metadata": {},
   "outputs": [
    {
     "name": "stdin",
     "output_type": "stream",
     "text": [
      " 12\n",
      " 12\n"
     ]
    },
    {
     "name": "stdout",
     "output_type": "stream",
     "text": [
      "KE result  864.0\n"
     ]
    }
   ],
   "source": [
    "## Write a Python program to calculate the kinetic energy of an object. Use the formula:\n",
    "# 𝑲 𝑬 = 𝟏/𝟐 𝒎𝑽𝟐\n",
    "# Take m (mass in kilograms) and v (velocity in meters/second) as inputs from the user.\n",
    "\n",
    "\n",
    "mass_in_kg = int(input(\"\"))\n",
    "velocity_in_meter = int(input(\"\"))\n",
    "\n",
    "\n",
    "KE = 1/2 * mass_in_kg * (velocity_in_meter ** 2)\n",
    "\n",
    "print(\"KE result \", KE)"
   ]
  },
  {
   "cell_type": "markdown",
   "id": "280bc38c-314e-437a-895c-c63093815a97",
   "metadata": {},
   "source": [
    "# 12) Tempreture Celsius"
   ]
  },
  {
   "cell_type": "code",
   "execution_count": 5,
   "id": "7e18f393-2802-4a26-a4df-0b11ce927d50",
   "metadata": {},
   "outputs": [
    {
     "name": "stdin",
     "output_type": "stream",
     "text": [
      "Eenter a celcius 12\n"
     ]
    },
    {
     "name": "stdout",
     "output_type": "stream",
     "text": [
      "Tempreture conversion 53.6\n"
     ]
    }
   ],
   "source": [
    "# 12 write a program to conver a temperature form celsius to fahrenheit. Use the formula: \n",
    "\n",
    "# F = 9/ 5 * c + 32\n",
    "\n",
    "\n",
    "celsius = int(input('Eenter a celcius'))\n",
    "\n",
    "f = 9 / 5 * celsius + 32 \n",
    "\n",
    "print('Tempreture conversion', f)"
   ]
  },
  {
   "cell_type": "markdown",
   "id": "395e54ff-f452-4c5a-8187-59037a49f810",
   "metadata": {},
   "source": [
    "# Gravitational Forece"
   ]
  },
  {
   "cell_type": "code",
   "execution_count": 8,
   "id": "885026b2-7823-4b4c-878b-1d1267ae6822",
   "metadata": {},
   "outputs": [
    {
     "name": "stdin",
     "output_type": "stream",
     "text": [
      "Enter a m1 value 1\n",
      "Enter a m2 value 2\n",
      "Enter a r (distancet center of the object ) value 3\n",
      "Enter a vlaue 4\n"
     ]
    },
    {
     "name": "stdout",
     "output_type": "stream",
     "text": [
      "53.6\n"
     ]
    }
   ],
   "source": [
    "# Write a program to calculate the gravitational force between to objects. Use the formula \n",
    "\n",
    "# m1, m2 are the messes of the objects \n",
    "# r = distance bwtween the centers of the objects \n",
    "# Take m1 m2 and r as inputs form the user\n",
    "\n",
    "# F = g * m1 * m2 / (r ** 2)\n",
    "\n",
    "\n",
    "m1 = int(input(\"Enter a m1 value\"))\n",
    "m2 = int(input(\"Enter a m2 value\"))\n",
    "r = int(input('Enter a r (distancet center of the object ) value'))\n",
    "g = int(input('Enter a vlaue'))\n",
    "\n",
    "F = g * m1 * m2 / (r ** 2)\n",
    "\n",
    "\n",
    "print (f)\n",
    "\n"
   ]
  },
  {
   "cell_type": "markdown",
   "id": "c686c7a4-78ea-4c75-ad06-1dbef30027e3",
   "metadata": {},
   "source": [
    "# 14) Volume of a cylinder:"
   ]
  },
  {
   "cell_type": "code",
   "execution_count": 11,
   "id": "29d77a61-2eba-4e89-8a16-a0a40a997adb",
   "metadata": {},
   "outputs": [
    {
     "name": "stdin",
     "output_type": "stream",
     "text": [
      "Enter a radius vlaue  1\n",
      "Enter a height value   1\n"
     ]
    },
    {
     "name": "stdout",
     "output_type": "stream",
     "text": [
      "Volume of a Cylinder 6.283185307179586\n"
     ]
    }
   ],
   "source": [
    "# write a python program to calculate the volume of a cylinder. Use the formula\n",
    "\n",
    "# teke radius ( r ) and height ( H ) as input form the user \n",
    "\n",
    "# Volume = 𝟐𝝅𝒓 ** 2 * h\n",
    "\n",
    "import math\n",
    "\n",
    "r = int(input('Enter a radius vlaue '))\n",
    "h = int(input('Enter a height value  '))\n",
    "\n",
    "volume = 2  * math.pi * (r ** 2) * h\n",
    "\n",
    "print('Volume of a Cylinder', volume)"
   ]
  },
  {
   "cell_type": "markdown",
   "id": "e3e53865-8c40-4f32-a2f1-b27f4b829f71",
   "metadata": {},
   "source": [
    "# 15) Presure"
   ]
  },
  {
   "cell_type": "code",
   "execution_count": 13,
   "id": "828b7c2a-f88e-42d7-bbff-c6280d6898bd",
   "metadata": {},
   "outputs": [
    {
     "name": "stdin",
     "output_type": "stream",
     "text": [
      "Enter a force vlaue  3\n",
      "Enter a area value 3\n"
     ]
    },
    {
     "name": "stdout",
     "output_type": "stream",
     "text": [
      "Pressure  1.0\n"
     ]
    }
   ],
   "source": [
    "# Write a python program to calculate the pressure exerted by a force on a surface. Use the formula\n",
    "\n",
    "# P = f / a \n",
    "\n",
    "# Where:\n",
    "    # p = pressure \n",
    "    # f = force\n",
    "    # a = are \n",
    "\n",
    "\n",
    "f = int(input('Enter a force vlaue '))\n",
    "a = int(input(\"Enter a area value\"))\n",
    "\n",
    "p = f / a\n",
    "\n",
    "print('Pressure ', p)"
   ]
  },
  {
   "cell_type": "code",
   "execution_count": null,
   "id": "61b4789b-dd9a-4591-a9e4-586991fdb133",
   "metadata": {},
   "outputs": [],
   "source": [
    "Electric power "
   ]
  },
  {
   "cell_type": "code",
   "execution_count": 14,
   "id": "bd1ebd79-e58f-468d-840d-1c3e624b3698",
   "metadata": {},
   "outputs": [
    {
     "name": "stdin",
     "output_type": "stream",
     "text": [
      "Enter a Voltage vlaue  2\n",
      "Enter a Current value 2\n"
     ]
    },
    {
     "name": "stdout",
     "output_type": "stream",
     "text": [
      "Pressure  1.0\n"
     ]
    }
   ],
   "source": [
    "# Write a python program to calculate the electric power consumed. Use the formula\n",
    "\n",
    "# P = v / i \n",
    "\n",
    "# Where:\n",
    "    # p = Power \n",
    "    # v = Voltage\n",
    "    # i = Current\n",
    "\n",
    "\n",
    "v = int(input('Enter a Voltage vlaue '))\n",
    "i = int(input(\"Enter a Current value\"))\n",
    "\n",
    "p = f / a\n",
    "\n",
    "print('Pressure ', p)"
   ]
  },
  {
   "cell_type": "code",
   "execution_count": null,
   "id": "dfe4c7fd-a9ea-46b6-bdf1-1f0a2fffc1cb",
   "metadata": {},
   "outputs": [],
   "source": [
    "17 Primeter of a circle ( Circumference )"
   ]
  },
  {
   "cell_type": "code",
   "execution_count": 16,
   "id": "484f52b2-2647-46b5-8375-aa0cdf68fb40",
   "metadata": {},
   "outputs": [
    {
     "name": "stdin",
     "output_type": "stream",
     "text": [
      "Enter a radius vlaue  12\n"
     ]
    },
    {
     "name": "stdout",
     "output_type": "stream",
     "text": [
      "Volume of a Cylinder 75.39822368615503\n"
     ]
    }
   ],
   "source": [
    "# write a python program to calculate the Primere of a circle. Use the formula\n",
    "\n",
    "# teke radius ( r ) as input form the user \n",
    "\n",
    "# Volume = 𝟐𝝅𝒓\n",
    "\n",
    "import math\n",
    "\n",
    "r = int(input('Enter a radius vlaue '))\n",
    "\n",
    "volume = 2  * math.pi * r\n",
    "\n",
    "print('Volume of a Cylinder', volume)"
   ]
  },
  {
   "cell_type": "code",
   "execution_count": null,
   "id": "a85c90e3-5957-47f7-b57d-133db565d838",
   "metadata": {},
   "outputs": [],
   "source": [
    "Future value in savings:"
   ]
  },
  {
   "cell_type": "code",
   "execution_count": 25,
   "id": "0dd89274-a4b4-4407-8645-7903113df197",
   "metadata": {},
   "outputs": [
    {
     "name": "stdin",
     "output_type": "stream",
     "text": [
      "Enter present Value 12\n",
      "Enter a annual rate ad decimal  2.2\n",
      "Enter a time in a year  2\n"
     ]
    },
    {
     "name": "stdout",
     "output_type": "stream",
     "text": [
      "Future value  122.88000000000002\n"
     ]
    }
   ],
   "source": [
    "## Write a python program to calculate the future value of an investment, Use the formula\n",
    "\n",
    "# FV = PV ( 1 + r ) ** t\n",
    "\n",
    "# Where: \n",
    "    # FV = future vlaue \n",
    "    # PV = present Value\n",
    "    # r = annual interest rate ( as a decimal)\n",
    "    # t = time in a year\n",
    "\n",
    "# take PV, r and t as input from the user \n",
    "\n",
    "\n",
    "pv = int(input('Enter present Value'))\n",
    "r = float(input('Enter a annual rate ad decimal '))\n",
    "t = int(input('Enter a time in a year '))\n",
    "\n",
    "FV = pv * ( 1 + r ) ** t \n",
    "\n",
    "print(\"Future value \", FV)"
   ]
  },
  {
   "cell_type": "code",
   "execution_count": null,
   "id": "e449a6eb-3796-405b-82db-2e4489769a4d",
   "metadata": {},
   "outputs": [],
   "source": []
  },
  {
   "cell_type": "code",
   "execution_count": null,
   "id": "3446d4ee-22e0-4150-aa1d-7ae1d0a9f54a",
   "metadata": {},
   "outputs": [],
   "source": []
  },
  {
   "cell_type": "code",
   "execution_count": null,
   "id": "35bca568-d21c-47f2-800d-aa78191151a5",
   "metadata": {},
   "outputs": [],
   "source": []
  },
  {
   "cell_type": "code",
   "execution_count": null,
   "id": "498fce59-5920-4a2b-881e-950014c39dff",
   "metadata": {},
   "outputs": [],
   "source": []
  },
  {
   "cell_type": "code",
   "execution_count": null,
   "id": "fb3e76f2-e494-4291-809e-e8687b006bc8",
   "metadata": {},
   "outputs": [],
   "source": []
  },
  {
   "cell_type": "code",
   "execution_count": null,
   "id": "1aee908e-a6c5-454f-806d-1a4c26ab9f0a",
   "metadata": {},
   "outputs": [],
   "source": []
  },
  {
   "cell_type": "code",
   "execution_count": null,
   "id": "68b420b1-bd9c-40af-9374-bb85d2f57312",
   "metadata": {},
   "outputs": [],
   "source": []
  },
  {
   "cell_type": "code",
   "execution_count": null,
   "id": "451c6ed1-e28e-4db9-8f8b-5ff573ad3851",
   "metadata": {},
   "outputs": [],
   "source": []
  },
  {
   "cell_type": "code",
   "execution_count": null,
   "id": "695b16e4-b883-42b9-b305-fb4dcefe87cf",
   "metadata": {},
   "outputs": [],
   "source": []
  }
 ],
 "metadata": {
  "kernelspec": {
   "display_name": "Python 3 (ipykernel)",
   "language": "python",
   "name": "python3"
  },
  "language_info": {
   "codemirror_mode": {
    "name": "ipython",
    "version": 3
   },
   "file_extension": ".py",
   "mimetype": "text/x-python",
   "name": "python",
   "nbconvert_exporter": "python",
   "pygments_lexer": "ipython3",
   "version": "3.12.7"
  }
 },
 "nbformat": 4,
 "nbformat_minor": 5
}
