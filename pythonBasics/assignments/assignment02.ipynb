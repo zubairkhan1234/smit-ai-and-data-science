{
 "cells": [
  {
   "cell_type": "markdown",
   "id": "20659136-e623-40a9-a809-ffca7c039f89",
   "metadata": {},
   "source": [
    "# 1) Area of a Rectangle "
   ]
  },
  {
   "cell_type": "code",
   "execution_count": 1,
   "id": "5d8cd35b-a40d-4a30-af95-9f30a3b00194",
   "metadata": {},
   "outputs": [
    {
     "name": "stdin",
     "output_type": "stream",
     "text": [
      "Enter the length of the rectangle \n"
     ]
    },
    {
     "name": "stdout",
     "output_type": "stream",
     "text": [
      "Enter only number <class 'ValueError'> \n"
     ]
    }
   ],
   "source": [
    "# Write a python program to calculate the area of rectangle. Use the formula\n",
    "#  Area = lenght * width\n",
    "# take length and width as input from the user \n",
    "\n",
    "try:\n",
    "    length = int(input(\"Enter the length of the rectangle\"))\n",
    "    width = int(input(\"Enter the width of the rectangle\"))\n",
    "    \n",
    "    # formula => area = length * width\n",
    "    \n",
    "    area = length * width\n",
    "    \n",
    "    print(f\"The size of the rectangle is {area}\")\n",
    "except ValueError:\n",
    "    print(f\"Enter only number {ValueError} \")"
   ]
  },
  {
   "cell_type": "markdown",
   "id": "304cf57d-213e-41b2-94d9-61b3ddd839a0",
   "metadata": {},
   "source": [
    "# 2) Circumference of a Circle "
   ]
  },
  {
   "cell_type": "code",
   "execution_count": 16,
   "id": "0fdbd1bc-4f94-4721-bc0f-88ff6d23d30e",
   "metadata": {},
   "outputs": [
    {
     "name": "stdin",
     "output_type": "stream",
     "text": [
      "Enter radius of the circle. \n"
     ]
    },
    {
     "name": "stdout",
     "output_type": "stream",
     "text": [
      "Enter only Integer values\n"
     ]
    }
   ],
   "source": [
    "# Write a Python program to calculate the circumference of a circle. Use the formula:\n",
    "    # 𝑪𝒊𝒓𝒄𝒖𝒎𝒇𝒆𝒓𝒆𝒏𝒄𝒆 = 𝟐𝝅𝒓\n",
    "# Take the radius r as input from the user.\n",
    "# r(radius)\n",
    "\n",
    "import math\n",
    "\n",
    "try:\n",
    "    radius = int(input(\"Enter radius of the circle.\"))\n",
    "    \n",
    "    circumference = 2 * math.pi * radius\n",
    "    \n",
    "    print(f\"circumference of a circle {circumference}\")\n",
    "\n",
    "except ValueError:\n",
    "    print(\"Enter only Integer values\")\n",
    "          \n",
    "\n"
   ]
  },
  {
   "cell_type": "markdown",
   "id": "262f5dc8-5c94-4846-93df-68cedfa26168",
   "metadata": {},
   "source": [
    "# 3) Simple Interest"
   ]
  },
  {
   "cell_type": "code",
   "execution_count": 1,
   "id": "40a4ee2e-4901-48ca-b8c7-b64496bae17a",
   "metadata": {},
   "outputs": [
    {
     "name": "stdin",
     "output_type": "stream",
     "text": [
      "Enter pricinpal in integer number \n"
     ]
    },
    {
     "name": "stdout",
     "output_type": "stream",
     "text": [
      "Please enter valid numbers. Principal and time must be integers. Rate must be a float (e.g., 5.5).\n"
     ]
    }
   ],
   "source": [
    "# Write a Python program to calculate the simple interest. Use the formula:\n",
    "# 𝑺𝒊𝒎𝒑𝒍𝒆 𝑰𝒏𝒕𝒆𝒓𝒆𝒔𝒕 = 𝑷𝒓𝒊𝒏𝒄𝒊𝒑𝒂𝒍 × 𝑹𝒂𝒕𝒆 × 𝑻𝒊𝒎𝒆\n",
    "# Take Principal, Rate, and Time as inputs from the user. \n",
    "\n",
    "# principal integer number\n",
    "# rate in float value\n",
    "# time in a year with integer value\n",
    "\n",
    "try:\n",
    "    principal = int(input(\"Enter pricinpal in integer number\"))\n",
    "    rate = float(input(\"Enter rate in decimal number\"))\n",
    "    time = int(input(\"Enter time in years\"))\n",
    "    simple_interest = (principal * rate * time) / 100\n",
    "    print(\"simple interest\", simple_interest)\n",
    "\n",
    "except ValueError as e:\n",
    "    print(\"Please enter valid numbers. Principal and time must be integers. Rate must be a float (e.g., 5.5).\")\n"
   ]
  },
  {
   "cell_type": "markdown",
   "id": "bb955960-85b6-429d-8f04-f5ef77cb0c92",
   "metadata": {},
   "source": [
    "# 4) Speed of an Object"
   ]
  },
  {
   "cell_type": "code",
   "execution_count": 6,
   "id": "4c57bbfb-f7b1-4beb-9eb5-61028db4f283",
   "metadata": {},
   "outputs": [
    {
     "name": "stdin",
     "output_type": "stream",
     "text": [
      "Enter distance in Km(kilomete)  \n"
     ]
    },
    {
     "name": "stdout",
     "output_type": "stream",
     "text": [
      "only integer number are allowed\n"
     ]
    }
   ],
   "source": [
    "# Write a Python program to calculate the speed of an object. Use the formula:  \n",
    "#     s𝒑𝒆𝒆𝒅 = 𝑫𝒊𝒔𝒕𝒂𝒏𝒄𝒆 /    𝑻𝒊𝒎𝒆  \n",
    "# Take Distance and Time as inputs from the user.\n",
    "\n",
    "try:\n",
    "    distance = int(input(\"Enter distance in Km(kilomete) \"))\n",
    "    time  = int(input(\"Enter a time in Hour\"))\n",
    "    \n",
    "    \n",
    "    speed = distance/ time\n",
    "    \n",
    "    print(\"Speend is\", speed)\n",
    "except ValueError:\n",
    "    print(\"only integer number are allowed\")\n"
   ]
  },
  {
   "cell_type": "markdown",
   "id": "fcdb0a79-4fb7-41c0-a1ed-deb0ad0cfab2",
   "metadata": {},
   "source": [
    "# 5) BMI Calculator"
   ]
  },
  {
   "cell_type": "code",
   "execution_count": 19,
   "id": "f8cee198-b7ab-4d80-a4f0-bd1d9d5ad185",
   "metadata": {},
   "outputs": [
    {
     "name": "stdin",
     "output_type": "stream",
     "text": [
      "Enter heigt in float number 1.9812\n",
      "Enter weight in kg 65\n"
     ]
    },
    {
     "name": "stdout",
     "output_type": "stream",
     "text": [
      "BMI is =>  16.559862179553416\n"
     ]
    }
   ],
   "source": [
    "# Write a Python program to calculate the Body Mass Index (BMI). Use the formula:  \n",
    "\n",
    "# BMI= height (m)2 / weight (kg)\n",
    "\n",
    "# Take Weight (in kilograms) and Height (in meters) as inputs from the user.\n",
    "\n",
    "from math import sqrt  \n",
    "\n",
    "height = float(input(\"Enter heigt in float number\"))\n",
    "weight = float(input(\"Enter weight in kg\"))\n",
    "\n",
    "bmi = weight / (height ** 2)\n",
    "print(\"BMI is => \", bmi)"
   ]
  },
  {
   "cell_type": "markdown",
   "id": "b94e6c1c-51eb-4dd6-9a20-f029f315c044",
   "metadata": {},
   "source": [
    "# 6) Force Using Newton's Second Law"
   ]
  },
  {
   "cell_type": "code",
   "execution_count": 22,
   "id": "a4deaadc-3f5d-4afa-b83a-7fd532f3f715",
   "metadata": {},
   "outputs": [
    {
     "name": "stdin",
     "output_type": "stream",
     "text": [
      "Enter a mass in kg sd\n"
     ]
    },
    {
     "name": "stdout",
     "output_type": "stream",
     "text": [
      "only integer values are allowed\n"
     ]
    }
   ],
   "source": [
    "# Write a Python program to calculate the force on an object. Use the formula: \n",
    "# f = ma\n",
    "# Take m (mass in kilograms) and a (acceleration in meters/second²) as inputs from the \n",
    "# user.\n",
    "\n",
    "try:\n",
    "    m = int(input(\"Enter a mass in kg\"))\n",
    "    a = int(input(\"acceleration in meters/second²\"))\n",
    "    \n",
    "    force = m * a\n",
    "    \n",
    "    print(\"Force is \", force)\n",
    "except ValueError:\n",
    "    print(\"only integer values are allowed\")\n",
    "    "
   ]
  },
  {
   "cell_type": "markdown",
   "id": "3a099a68-cf78-426d-a9b6-f603c7fc8e25",
   "metadata": {},
   "source": [
    "# Compound Interest"
   ]
  },
  {
   "cell_type": "code",
   "execution_count": 24,
   "id": "65f6db24-f273-4a09-a327-61205d841de8",
   "metadata": {},
   "outputs": [
    {
     "name": "stdin",
     "output_type": "stream",
     "text": [
      "Enter principle amount 1000\n",
      "Enter annual enterest rate (decimal) 0.10\n",
      "Enter number of times 12\n",
      "Enter time in years 2\n"
     ]
    },
    {
     "name": "stdout",
     "output_type": "stream",
     "text": [
      "Compiund interest is  1086.5288007072381\n"
     ]
    }
   ],
   "source": [
    "# Write a Python program to calculate compound interest. Use the formula:  \n",
    "\n",
    "#     ** =>  used for root\n",
    "\n",
    "#     formula = A = p * (1 + r/n) ** (n-t)\n",
    "\n",
    "# Where: \n",
    "# A= total amount \n",
    "# P = principal amount \n",
    "# r = annual interest rate (decimal) \n",
    "# n = number of times interest is compounded per year \n",
    "# t = time in years \n",
    "# Take P, r, n, and t as inputs from the user.\n",
    "\n",
    "p = int(input(\"Enter principle amount\"))\n",
    "r = float(input(\"Enter annual enterest rate (decimal)\")) \n",
    "n = int(input(\"Enter number of times\"))\n",
    "t = int(input(\"Enter time in years\"))\n",
    "\n",
    "\n",
    "A = p * (1 + r/n) ** (n-t)\n",
    "\n",
    "print(\"Compiund interest is \", A )\n",
    "\n"
   ]
  }
 ],
 "metadata": {
  "kernelspec": {
   "display_name": "Python 3 (ipykernel)",
   "language": "python",
   "name": "python3"
  },
  "language_info": {
   "codemirror_mode": {
    "name": "ipython",
    "version": 3
   },
   "file_extension": ".py",
   "mimetype": "text/x-python",
   "name": "python",
   "nbconvert_exporter": "python",
   "pygments_lexer": "ipython3",
   "version": "3.13.3"
  }
 },
 "nbformat": 4,
 "nbformat_minor": 5
}
