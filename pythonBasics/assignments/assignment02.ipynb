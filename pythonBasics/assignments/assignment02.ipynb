{
 "cells": [
  {
   "cell_type": "markdown",
   "id": "20659136-e623-40a9-a809-ffca7c039f89",
   "metadata": {},
   "source": [
    "# 1) Area of a Rectangle "
   ]
  },
  {
   "cell_type": "code",
   "execution_count": 1,
   "id": "5d8cd35b-a40d-4a30-af95-9f30a3b00194",
   "metadata": {},
   "outputs": [
    {
     "name": "stdin",
     "output_type": "stream",
     "text": [
      "Enter the length of the rectangle \n"
     ]
    },
    {
     "name": "stdout",
     "output_type": "stream",
     "text": [
      "Enter only number <class 'ValueError'> \n"
     ]
    }
   ],
   "source": [
    "# Write a python program to calculate the area of rectangle. Use the formula\n",
    "#  Area = lenght * width\n",
    "# take length and width as input from the user \n",
    "\n",
    "try:\n",
    "    length = int(input(\"Enter the length of the rectangle\"))\n",
    "    width = int(input(\"Enter the width of the rectangle\"))\n",
    "    \n",
    "    # formula => area = length * width\n",
    "    \n",
    "    area = length * width\n",
    "    \n",
    "    print(f\"The size of the rectangle is {area}\")\n",
    "except ValueError:\n",
    "    print(f\"Enter only number {ValueError} \")"
   ]
  },
  {
   "cell_type": "markdown",
   "id": "304cf57d-213e-41b2-94d9-61b3ddd839a0",
   "metadata": {},
   "source": [
    "# 2) Circumference of a Circle "
   ]
  },
  {
   "cell_type": "code",
   "execution_count": 12,
   "id": "0fdbd1bc-4f94-4721-bc0f-88ff6d23d30e",
   "metadata": {},
   "outputs": [
    {
     "name": "stdin",
     "output_type": "stream",
     "text": [
      "Enter radius of the circle. 45\n"
     ]
    },
    {
     "name": "stdout",
     "output_type": "stream",
     "text": [
      "circumference of a circle 282.7433388230814\n"
     ]
    }
   ],
   "source": [
    "# Write a Python program to calculate the circumference of a circle. Use the formula:\n",
    "    # 𝑪𝒊𝒓𝒄𝒖𝒎𝒇𝒆𝒓𝒆𝒏𝒄𝒆 = 𝟐𝝅𝒓\n",
    "# Take the radius r as input from the user.\n",
    "# r(radius)\n",
    "\n",
    "import math\n",
    "\n",
    "try:\n",
    "    radius = int(input(\"Enter radius of the circle.\"))\n",
    "\n",
    "    circumference = 2 * math.pi * radius\n",
    "    \n",
    "    print(f\"circumference of a circle {circumference}\")\n",
    "except ValueError:\n",
    "    print(\"Enter only Integer values\")\n",
    "          \n",
    "\n"
   ]
  }
 ],
 "metadata": {
  "kernelspec": {
   "display_name": "Python 3 (ipykernel)",
   "language": "python",
   "name": "python3"
  },
  "language_info": {
   "codemirror_mode": {
    "name": "ipython",
    "version": 3
   },
   "file_extension": ".py",
   "mimetype": "text/x-python",
   "name": "python",
   "nbconvert_exporter": "python",
   "pygments_lexer": "ipython3",
   "version": "3.13.3"
  }
 },
 "nbformat": 4,
 "nbformat_minor": 5
}
