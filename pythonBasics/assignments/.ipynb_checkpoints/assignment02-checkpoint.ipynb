{
 "cells": [
  {
   "cell_type": "markdown",
   "id": "20659136-e623-40a9-a809-ffca7c039f89",
   "metadata": {},
   "source": [
    "# 1) Area of a Rectangle "
   ]
  },
  {
   "cell_type": "code",
   "execution_count": 3,
   "id": "7a8ecd7b-512c-4727-9d0b-12db1092d729",
   "metadata": {},
   "outputs": [],
   "source": []
  },
  {
   "cell_type": "code",
   "execution_count": 12,
   "id": "5d8cd35b-a40d-4a30-af95-9f30a3b00194",
   "metadata": {},
   "outputs": [
    {
     "name": "stdin",
     "output_type": "stream",
     "text": [
      "Enter the length of the rectangle df\n"
     ]
    },
    {
     "name": "stdout",
     "output_type": "stream",
     "text": [
      "Enter only number <class 'ValueError'> \n"
     ]
    }
   ],
   "source": [
    "# Write a python program to calculate the area of rectangle. Use the formula\n",
    "#  Area = lenght * width\n",
    "# take length and width as input from the user \n",
    "\n",
    "try:\n",
    "    length = int(input(\"Enter the length of the rectangle\"))\n",
    "    width = int(input(\"Enter the width of the rectangle\"))\n",
    "    \n",
    "    # formula => area = length * width\n",
    "    \n",
    "    area = length * width\n",
    "    \n",
    "    print(f\"The size of the rectangle is {area}\")\n",
    "except ValueError:\n",
    "    print(f\"Enter only number {ValueError} \")"
   ]
  }
 ],
 "metadata": {
  "kernelspec": {
   "display_name": "Python 3 (ipykernel)",
   "language": "python",
   "name": "python3"
  },
  "language_info": {
   "codemirror_mode": {
    "name": "ipython",
    "version": 3
   },
   "file_extension": ".py",
   "mimetype": "text/x-python",
   "name": "python",
   "nbconvert_exporter": "python",
   "pygments_lexer": "ipython3",
   "version": "3.13.3"
  }
 },
 "nbformat": 4,
 "nbformat_minor": 5
}
