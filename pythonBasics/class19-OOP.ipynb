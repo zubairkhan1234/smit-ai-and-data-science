{
 "cells": [
  {
   "cell_type": "markdown",
   "id": "89da753c-4daf-4f58-8564-769b412fb81f",
   "metadata": {},
   "source": [
    "# OOP (object oriented programing)"
   ]
  },
  {
   "cell_type": "markdown",
   "id": "d519f325-dad4-48fc-bc24-152db48b135b",
   "metadata": {},
   "source": [
    "# Classes and Object"
   ]
  },
  {
   "cell_type": "code",
   "execution_count": null,
   "id": "d6dd7399-9c61-4a90-9e05-f6002fcd0ea8",
   "metadata": {},
   "outputs": [],
   "source": [
    "class Computer:\n",
    "    ram            = \"GB\"\n",
    "    processor      = 'intel corei9'\n",
    "    storage        = '1TB'\n",
    "    price          = 'HP'\n",
    "    model          = 60000\n",
    "\n",
    "\n",
    "    # action / behavior\n",
    "    def coding(self):\n",
    "        print('Coding....')\n",
    "    def designing(self):\n",
    "        print('Designing...')\n",
    "    def browsing(self):\n",
    "        print('Browsing...')\n",
    "        "
   ]
  },
  {
   "cell_type": "code",
   "execution_count": null,
   "id": "cb570a58-dedb-4d3b-aaf8-5d35fae09df8",
   "metadata": {},
   "outputs": [],
   "source": [
    "type(Computer)"
   ]
  },
  {
   "cell_type": "code",
   "execution_count": null,
   "id": "11ba6237-cf74-4fcd-9d50-55a918eb47da",
   "metadata": {},
   "outputs": [],
   "source": [
    "#  Object is an instance of class\n",
    "#  It will be a copy of class\n",
    "#  It will follow its class\n",
    "\n",
    "com1 = Computer()\n",
    "com2 = Computer()\n",
    "com3 = Computer()"
   ]
  },
  {
   "cell_type": "code",
   "execution_count": null,
   "id": "57d4ad90-5c40-430c-8d07-e51cca904a4f",
   "metadata": {},
   "outputs": [],
   "source": [
    "com1.price"
   ]
  },
  {
   "cell_type": "code",
   "execution_count": null,
   "id": "daacef05-bae8-4395-8d37-69f9ea456f77",
   "metadata": {},
   "outputs": [],
   "source": [
    "com1.coding()"
   ]
  },
  {
   "cell_type": "markdown",
   "id": "f367c35b-b930-4579-b483-d1951f40bb38",
   "metadata": {},
   "source": []
  },
  {
   "cell_type": "code",
   "execution_count": null,
   "id": "e0447208-bb79-4fe0-bfe4-d2dd1793f2dd",
   "metadata": {},
   "outputs": [],
   "source": [
    "class Computer():\n",
    "    # initializer / consturctor\n",
    "    def __init__(self, model, price, name, processor, storage):\n",
    "    #  charactistics / propertiesm / attributes  variable\n",
    "\n",
    "        self.model = model\n",
    "        self.price = price\n",
    "        self.storage = storage \n",
    "        self.processor = processor\n",
    "        self.name = name\n",
    "\n",
    "\n",
    "    \n",
    "    # action / behavior\n",
    "    def coding(self):\n",
    "        print(f'Coding.... {self.name}')\n",
    "    def designing(self):\n",
    "        print('Designing...')\n",
    "    def browsing(self):\n",
    "        print('Browsing...')\n",
    "        "
   ]
  },
  {
   "cell_type": "code",
   "execution_count": null,
   "id": "a1ec1d51-4742-4fa4-b272-9ade791a50d8",
   "metadata": {},
   "outputs": [],
   "source": [
    " Computer(   )"
   ]
  },
  {
   "cell_type": "code",
   "execution_count": null,
   "id": "6b6b7273-b900-4d6d-be70-75fd4b478459",
   "metadata": {},
   "outputs": [],
   "source": [
    "c1 = Computer('probook',  10000, 'HP', 'corei9', '1TB') "
   ]
  },
  {
   "cell_type": "code",
   "execution_count": null,
   "id": "f3e4927d-9bdb-4782-b9f6-764bbd30ce89",
   "metadata": {},
   "outputs": [],
   "source": [
    "c2 = Computer('probook',  10000, 'Dell', 'corei9', '1TB') "
   ]
  },
  {
   "cell_type": "code",
   "execution_count": null,
   "id": "9b02c433-e764-4be4-a7a2-d3d3ea8e064c",
   "metadata": {},
   "outputs": [],
   "source": [
    "c1.coding()"
   ]
  },
  {
   "cell_type": "code",
   "execution_count": null,
   "id": "30bd1c1d-ca0c-4cb2-b1de-8f59715ebb03",
   "metadata": {},
   "outputs": [],
   "source": [
    "c2.coding()"
   ]
  },
  {
   "cell_type": "markdown",
   "id": "18af2805-c3f8-4dcf-96f1-078e0aadebc7",
   "metadata": {},
   "source": [
    "# 4 piller of OOP\n",
    "    - Encapsulation\n",
    "    - Inheritance\n",
    "    - Polymorphism\n",
    "    - Abstraction"
   ]
  },
  {
   "cell_type": "markdown",
   "id": "1eb7f590-b0c9-4e4e-8627-4e7d87c4dede",
   "metadata": {},
   "source": [
    "# Encapsulation: Binding data with methods:"
   ]
  },
  {
   "cell_type": "raw",
   "id": "49ff4f72-598e-4dcd-a4d0-6e64de54a58e",
   "metadata": {},
   "source": [
    "any object can assess data mmber of class from outside the calss \n",
    "any object can modify data memver of class from outside the class\n",
    "we need to protect the data being assessed and modified outside the class.\n"
   ]
  },
  {
   "cell_type": "code",
   "execution_count": null,
   "id": "3c8dd9bf-6261-4d09-ae0d-b2a2e958fd2c",
   "metadata": {},
   "outputs": [],
   "source": [
    "c1.model"
   ]
  },
  {
   "cell_type": "code",
   "execution_count": null,
   "id": "41179f0e-cd3c-4c2f-9d2f-01e096b79e34",
   "metadata": {},
   "outputs": [],
   "source": [
    "print(c1)"
   ]
  },
  {
   "cell_type": "code",
   "execution_count": null,
   "id": "5f8bba0f-94c5-4b1c-a250-d011fdfb6a64",
   "metadata": {},
   "outputs": [],
   "source": [
    "com1.price"
   ]
  },
  {
   "cell_type": "code",
   "execution_count": null,
   "id": "f2ea7c0b-b9d1-4dde-a67e-a716c4f28a59",
   "metadata": {},
   "outputs": [],
   "source": [
    "com1.price = \"Lenovo\""
   ]
  },
  {
   "cell_type": "code",
   "execution_count": null,
   "id": "f2d506ed-ea6d-48a1-b147-cd260e79c309",
   "metadata": {},
   "outputs": [],
   "source": [
    "com1.price"
   ]
  },
  {
   "cell_type": "markdown",
   "id": "91fd5b3e-888a-4518-84fe-edaea7c41d02",
   "metadata": {},
   "source": [
    "# Getter setter"
   ]
  },
  {
   "cell_type": "code",
   "execution_count": null,
   "id": "3696e491-7d3c-49e7-9b10-eef6a7059dd7",
   "metadata": {},
   "outputs": [],
   "source": [
    "class Student:\n",
    "    def __init__(self,name,email,rollNumber,course):\n",
    "        self._name = name # name is not accessable outside the class \n",
    "        self._email = email # email is not accessable outside the class\n",
    "        self.rollNumber = rollNumber # while rollNumber is accessable outside the class, It's not a privage veriable\n",
    "        self.course = course\n",
    "\n",
    "\n",
    "    def is_attending_class(self):\n",
    "        print(f\"{self._name} is attending the class\")\n",
    "    def getName(self):\n",
    "        return self._name\n",
    "    "
   ]
  },
  {
   "cell_type": "code",
   "execution_count": null,
   "id": "4f4951c4-b1ec-4dec-9e6f-828f2fa8da0d",
   "metadata": {},
   "outputs": [],
   "source": [
    "s1 = Student('Zubair',  'zubair@gmail.com', 'Ai-110', 'Ai and DS')"
   ]
  },
  {
   "cell_type": "code",
   "execution_count": null,
   "id": "8dc7f2a2-65dc-4176-9f8f-6d4ef53eef53",
   "metadata": {},
   "outputs": [],
   "source": [
    "s1.getName()"
   ]
  },
  {
   "cell_type": "code",
   "execution_count": null,
   "id": "508a2e65-430d-4c0f-a9aa-639a9efb895f",
   "metadata": {},
   "outputs": [],
   "source": [
    "s1.rollNumber"
   ]
  },
  {
   "cell_type": "code",
   "execution_count": 1,
   "id": "5f606a18-9d40-4673-80b0-5a54deaf4786",
   "metadata": {},
   "outputs": [],
   "source": [
    "from students import Student"
   ]
  },
  {
   "cell_type": "code",
   "execution_count": 2,
   "id": "2d1386fd-181e-40cf-9804-08b06482e590",
   "metadata": {},
   "outputs": [],
   "source": [
    "s2 = Student('Zubair',  'zubair@gmail.com', 'Ai-111', 'Ai and DS')"
   ]
  },
  {
   "cell_type": "code",
   "execution_count": 3,
   "id": "cd7bf870-db02-41cf-bd2a-a0d06a0f3297",
   "metadata": {},
   "outputs": [
    {
     "ename": "AttributeError",
     "evalue": "'Student' object has no attribute 'name'",
     "output_type": "error",
     "traceback": [
      "\u001b[31m---------------------------------------------------------------------------\u001b[39m",
      "\u001b[31mAttributeError\u001b[39m                            Traceback (most recent call last)",
      "\u001b[36mCell\u001b[39m\u001b[36m \u001b[39m\u001b[32mIn[3]\u001b[39m\u001b[32m, line 1\u001b[39m\n\u001b[32m----> \u001b[39m\u001b[32m1\u001b[39m \u001b[43ms2\u001b[49m\u001b[43m.\u001b[49m\u001b[43mname\u001b[49m\n",
      "\u001b[31mAttributeError\u001b[39m: 'Student' object has no attribute 'name'"
     ]
    }
   ],
   "source": [
    "s2.name"
   ]
  },
  {
   "cell_type": "code",
   "execution_count": 4,
   "id": "6b1ff8d0-721e-4c6b-9658-2c1d6c1a4aff",
   "metadata": {},
   "outputs": [
    {
     "data": {
      "text/plain": [
       "'Zubair'"
      ]
     },
     "execution_count": 4,
     "metadata": {},
     "output_type": "execute_result"
    }
   ],
   "source": [
    "s2.getName()"
   ]
  },
  {
   "cell_type": "code",
   "execution_count": 5,
   "id": "863465ec-01e9-44e6-82b4-6fbce4924676",
   "metadata": {},
   "outputs": [
    {
     "data": {
      "text/plain": [
       "'Ai-111'"
      ]
     },
     "execution_count": 5,
     "metadata": {},
     "output_type": "execute_result"
    }
   ],
   "source": [
    "s2.rollNumber"
   ]
  },
  {
   "cell_type": "code",
   "execution_count": 6,
   "id": "ae45a1de-2ff1-4247-b53a-f0bfa4ffb15b",
   "metadata": {},
   "outputs": [
    {
     "name": "stdout",
     "output_type": "stream",
     "text": [
      "Zubair is attending the class\n"
     ]
    }
   ],
   "source": [
    "s2.is_attending_class()"
   ]
  },
  {
   "cell_type": "code",
   "execution_count": 6,
   "id": "6152dd5f-c4c2-4c89-90d0-e84d4db9059e",
   "metadata": {},
   "outputs": [],
   "source": [
    "class Laptop:\n",
    "    def __init__(self, model, ram, storage, processor):\n",
    "        self._model = model\n",
    "        self._ram = ram\n",
    "        self._storage = storage\n",
    "        self._processor = processor\n",
    "\n",
    "    def get_model(self):\n",
    "        return self._model\n",
    "    def set_model(self, model_name):\n",
    "        self._model = model_name\n",
    "\n",
    "    def get_ram(self):\n",
    "        return self._ram\n",
    "    def set_ram(self, ram_name):\n",
    "        self._ram = ram_name\n",
    "\n",
    "    def get_storage(self):\n",
    "        return self._storage\n",
    "    def set_model(self, storage_name):\n",
    "        self._storage = storage_name\n",
    "    \n",
    "    def get_processor(self):\n",
    "        return self._processor\n",
    "    def set_processor(self, processor_name):\n",
    "        self._processor = processor_name\n",
    "        "
   ]
  },
  {
   "cell_type": "code",
   "execution_count": 7,
   "id": "217ec68d-388b-4438-851d-c5c52de5fad8",
   "metadata": {},
   "outputs": [],
   "source": [
    "lap1 = Laptop('Dell', '8GB', '1tb', \"Corei5\")"
   ]
  },
  {
   "cell_type": "code",
   "execution_count": 8,
   "id": "7bab5314-8aa8-49c2-87df-cae2431bd9c4",
   "metadata": {},
   "outputs": [
    {
     "data": {
      "text/plain": [
       "'Dell'"
      ]
     },
     "execution_count": 8,
     "metadata": {},
     "output_type": "execute_result"
    }
   ],
   "source": [
    "lap1.get_model()"
   ]
  },
  {
   "cell_type": "code",
   "execution_count": null,
   "id": "21afe6dc-34db-45c7-a2b2-050adb5d8c6e",
   "metadata": {},
   "outputs": [],
   "source": [
    "lap1."
   ]
  },
  {
   "cell_type": "code",
   "execution_count": null,
   "id": "dbc4ead9-d429-4bd2-9622-7a3580d81b61",
   "metadata": {},
   "outputs": [],
   "source": []
  },
  {
   "cell_type": "code",
   "execution_count": null,
   "id": "759f9288-9781-49c5-a56f-595aad3f35e2",
   "metadata": {},
   "outputs": [],
   "source": []
  },
  {
   "cell_type": "code",
   "execution_count": null,
   "id": "3c41cab0-6d33-41f2-8aca-d9374ce6b455",
   "metadata": {},
   "outputs": [],
   "source": []
  },
  {
   "cell_type": "code",
   "execution_count": null,
   "id": "89d0e518-196c-48d0-97fc-31b27c1bea24",
   "metadata": {},
   "outputs": [],
   "source": []
  },
  {
   "cell_type": "code",
   "execution_count": null,
   "id": "a19a6bbd-cf08-41b8-8e29-4531dc31b50e",
   "metadata": {},
   "outputs": [],
   "source": []
  },
  {
   "cell_type": "code",
   "execution_count": null,
   "id": "7c1e6749-79da-45ea-aea6-f5bfa5eec85b",
   "metadata": {},
   "outputs": [],
   "source": []
  },
  {
   "cell_type": "code",
   "execution_count": null,
   "id": "a9d1d3d4-e09c-4e20-9455-9b2200ef8bb3",
   "metadata": {},
   "outputs": [],
   "source": []
  },
  {
   "cell_type": "code",
   "execution_count": null,
   "id": "662f6b5b-203c-422d-8afe-7f4478655eb6",
   "metadata": {},
   "outputs": [],
   "source": []
  },
  {
   "cell_type": "code",
   "execution_count": null,
   "id": "4bb1c51c-5806-4a42-a479-5230cbe9591f",
   "metadata": {},
   "outputs": [],
   "source": []
  },
  {
   "cell_type": "code",
   "execution_count": null,
   "id": "681dbcf1-a165-4df1-b59b-4597cd6e5056",
   "metadata": {},
   "outputs": [],
   "source": []
  },
  {
   "cell_type": "code",
   "execution_count": null,
   "id": "eee952c2-c7c1-4a82-85cb-bcda39e103a3",
   "metadata": {},
   "outputs": [],
   "source": []
  },
  {
   "cell_type": "code",
   "execution_count": null,
   "id": "581bfcf2-00c5-447f-8f4d-2d3702411225",
   "metadata": {},
   "outputs": [],
   "source": []
  },
  {
   "cell_type": "code",
   "execution_count": null,
   "id": "c2de42bd-b350-42bd-b8d3-9d5387c329fa",
   "metadata": {},
   "outputs": [],
   "source": []
  },
  {
   "cell_type": "code",
   "execution_count": null,
   "id": "7279063f-4c03-496d-93b2-96c5441f297c",
   "metadata": {},
   "outputs": [],
   "source": []
  }
 ],
 "metadata": {
  "kernelspec": {
   "display_name": "Python 3 (ipykernel)",
   "language": "python",
   "name": "python3"
  },
  "language_info": {
   "codemirror_mode": {
    "name": "ipython",
    "version": 3
   },
   "file_extension": ".py",
   "mimetype": "text/x-python",
   "name": "python",
   "nbconvert_exporter": "python",
   "pygments_lexer": "ipython3",
   "version": "3.13.3"
  }
 },
 "nbformat": 4,
 "nbformat_minor": 5
}
