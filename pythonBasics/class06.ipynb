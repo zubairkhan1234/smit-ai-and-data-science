{
 "cells": [
  {
   "cell_type": "code",
   "execution_count": 53,
   "id": "33d5a29e-a8d6-4e82-a2a0-47a0f7949915",
   "metadata": {},
   "outputs": [],
   "source": [
    "students = ['saqib', 'wasiq', 'haseeb', 'tariq','hassan', 'haseeb' , 'nabeel']"
   ]
  },
  {
   "cell_type": "markdown",
   "id": "2d7eb1ca-4fbc-43b1-84dd-5337b0f7bc78",
   "metadata": {},
   "source": [
    "# Sort() "
   ]
  },
  {
   "cell_type": "code",
   "execution_count": 54,
   "id": "97645162-e4a0-4282-a698-1a6664b6865c",
   "metadata": {},
   "outputs": [],
   "source": [
    "students.sort() # permenantly sort the values according to the character ASCII values "
   ]
  },
  {
   "cell_type": "code",
   "execution_count": 55,
   "id": "a045c23f-7117-4022-b66a-4b633812e47c",
   "metadata": {},
   "outputs": [
    {
     "data": {
      "text/plain": [
       "['haseeb', 'haseeb', 'hassan', 'nabeel', 'saqib', 'tariq', 'wasiq']"
      ]
     },
     "execution_count": 55,
     "metadata": {},
     "output_type": "execute_result"
    }
   ],
   "source": [
    "students"
   ]
  },
  {
   "cell_type": "code",
   "execution_count": 56,
   "id": "af7540c8-14e2-4f65-a1e5-23fa041168ce",
   "metadata": {},
   "outputs": [],
   "source": [
    "students.sort(reverse=True) # type bool value start with capital latter"
   ]
  },
  {
   "cell_type": "code",
   "execution_count": 57,
   "id": "250e6193-675f-4926-8789-cf6f0bfdd348",
   "metadata": {},
   "outputs": [
    {
     "data": {
      "text/plain": [
       "['wasiq', 'tariq', 'saqib', 'nabeel', 'hassan', 'haseeb', 'haseeb']"
      ]
     },
     "execution_count": 57,
     "metadata": {},
     "output_type": "execute_result"
    }
   ],
   "source": [
    "students"
   ]
  },
  {
   "cell_type": "code",
   "execution_count": 58,
   "id": "45a8475c-f204-48cc-b8cc-abfd5d484962",
   "metadata": {},
   "outputs": [
    {
     "data": {
      "text/plain": [
       "['haseeb', 'haseeb', 'hassan', 'nabeel', 'saqib', 'tariq', 'wasiq']"
      ]
     },
     "execution_count": 58,
     "metadata": {},
     "output_type": "execute_result"
    }
   ],
   "source": [
    "students.sort()\n",
    "students"
   ]
  },
  {
   "cell_type": "markdown",
   "id": "7cde8f09-e24b-4469-a558-c0e0175cd170",
   "metadata": {},
   "source": [
    "# index\n"
   ]
  },
  {
   "cell_type": "code",
   "execution_count": 59,
   "id": "fbbf7e73-440e-465e-af46-f986816b9e23",
   "metadata": {},
   "outputs": [],
   "source": [
    "# get index by value fron a list"
   ]
  },
  {
   "cell_type": "code",
   "execution_count": 60,
   "id": "944019d9-5a77-4d27-a106-4aaed99ddaf6",
   "metadata": {},
   "outputs": [
    {
     "data": {
      "text/plain": [
       "['haseeb', 'haseeb', 'hassan', 'nabeel', 'saqib', 'tariq', 'wasiq']"
      ]
     },
     "execution_count": 60,
     "metadata": {},
     "output_type": "execute_result"
    }
   ],
   "source": [
    "students"
   ]
  },
  {
   "cell_type": "code",
   "execution_count": 61,
   "id": "2ed1d8eb-57e0-459a-8ed8-d19e826fd9e1",
   "metadata": {},
   "outputs": [
    {
     "data": {
      "text/plain": [
       "2"
      ]
     },
     "execution_count": 61,
     "metadata": {},
     "output_type": "execute_result"
    }
   ],
   "source": [
    "students.index('hassan')"
   ]
  },
  {
   "cell_type": "markdown",
   "id": "c559025b-f1a7-467c-af92-0aa0604fb997",
   "metadata": {},
   "source": [
    "# count() "
   ]
  },
  {
   "cell_type": "code",
   "execution_count": 62,
   "id": "d761da5f-bfbe-4f3b-8c6d-a873288badbf",
   "metadata": {},
   "outputs": [],
   "source": [
    "# count of duplicate item in a list"
   ]
  },
  {
   "cell_type": "code",
   "execution_count": 63,
   "id": "d793b19c-92a5-4978-a17c-4daa84930857",
   "metadata": {},
   "outputs": [
    {
     "data": {
      "text/plain": [
       "2"
      ]
     },
     "execution_count": 63,
     "metadata": {},
     "output_type": "execute_result"
    }
   ],
   "source": [
    "students.count('haseeb')"
   ]
  },
  {
   "cell_type": "markdown",
   "id": "332dfa1a-3c9d-4f8f-96ca-aad2001e3bf2",
   "metadata": {},
   "source": [
    "# Dictionary\n",
    "- {}\n",
    "- {key:value}\n",
    "- index nhi hotay\n",
    "- mutable\n",
    "- "
   ]
  },
  {
   "cell_type": "code",
   "execution_count": 91,
   "id": "4daff432-295f-4335-b8ad-2f74bd399a48",
   "metadata": {},
   "outputs": [],
   "source": [
    "record1= {'name': 'Zubair', 'age': 24, \"city\": 'Karachi', 'gender': 'male'}"
   ]
  },
  {
   "cell_type": "code",
   "execution_count": 92,
   "id": "dfc46458-8da9-41ce-a72a-5df90ca719b4",
   "metadata": {},
   "outputs": [
    {
     "name": "stdout",
     "output_type": "stream",
     "text": [
      "{'name': 'Zubair', 'age': 24, 'city': 'Karachi', 'gender': 'male'}\n"
     ]
    }
   ],
   "source": [
    "print(record1)"
   ]
  },
  {
   "cell_type": "code",
   "execution_count": 93,
   "id": "9ac24982-7363-42cc-8461-a30d1ce7d73e",
   "metadata": {},
   "outputs": [
    {
     "data": {
      "text/plain": [
       "dict"
      ]
     },
     "execution_count": 93,
     "metadata": {},
     "output_type": "execute_result"
    }
   ],
   "source": [
    "type(record1)"
   ]
  },
  {
   "cell_type": "code",
   "execution_count": 94,
   "id": "212249ea-0a7d-4eb6-a483-041edafb21c0",
   "metadata": {},
   "outputs": [
    {
     "name": "stdout",
     "output_type": "stream",
     "text": [
      "<class 'dict'>\n"
     ]
    }
   ],
   "source": [
    "print(type(record1))"
   ]
  },
  {
   "cell_type": "code",
   "execution_count": 95,
   "id": "dec5480f-6c07-46f2-b6a5-c6834b4d5e43",
   "metadata": {},
   "outputs": [
    {
     "data": {
      "text/plain": [
       "4"
      ]
     },
     "execution_count": 95,
     "metadata": {},
     "output_type": "execute_result"
    }
   ],
   "source": [
    "len(record1)"
   ]
  },
  {
   "cell_type": "markdown",
   "id": "b54894a5-911e-42d6-baed-902025953256",
   "metadata": {},
   "source": [
    "## Add a new key value pair in dictionary "
   ]
  },
  {
   "cell_type": "code",
   "execution_count": 96,
   "id": "1035f503-da3a-4a26-a2d2-25f5ddadbc2e",
   "metadata": {},
   "outputs": [],
   "source": [
    "record1['contact number '] = 3411269075"
   ]
  },
  {
   "cell_type": "code",
   "execution_count": 97,
   "id": "d93c2dd5-3855-46d0-bd54-f7aa5af5c45f",
   "metadata": {},
   "outputs": [
    {
     "data": {
      "text/plain": [
       "{'name': 'Zubair',\n",
       " 'age': 24,\n",
       " 'city': 'Karachi',\n",
       " 'gender': 'male',\n",
       " 'contact number ': 3411269075}"
      ]
     },
     "execution_count": 97,
     "metadata": {},
     "output_type": "execute_result"
    }
   ],
   "source": [
    "record1"
   ]
  },
  {
   "cell_type": "code",
   "execution_count": 98,
   "id": "649f979d-7452-4dc7-88ee-98d3e86a866f",
   "metadata": {},
   "outputs": [],
   "source": [
    "record1['contact number '] = '03122866091' # it will overWrite the value of same key"
   ]
  },
  {
   "cell_type": "code",
   "execution_count": 99,
   "id": "5cef6a64-ee41-4863-9975-1b697903412f",
   "metadata": {},
   "outputs": [
    {
     "data": {
      "text/plain": [
       "{'name': 'Zubair',\n",
       " 'age': 24,\n",
       " 'city': 'Karachi',\n",
       " 'gender': 'male',\n",
       " 'contact number ': '03122866091'}"
      ]
     },
     "execution_count": 99,
     "metadata": {},
     "output_type": "execute_result"
    }
   ],
   "source": [
    "record1"
   ]
  },
  {
   "cell_type": "markdown",
   "id": "5dda91e1-b7da-4c28-8a0e-64c75e62cdf1",
   "metadata": {},
   "source": [
    "## delete a value "
   ]
  },
  {
   "cell_type": "code",
   "execution_count": 101,
   "id": "9a75892b-6483-4593-871c-039390b1ce27",
   "metadata": {},
   "outputs": [
    {
     "data": {
      "text/plain": [
       "{'name': 'Zubair', 'age': 24, 'city': 'Karachi', 'gender': 'male'}"
      ]
     },
     "execution_count": 101,
     "metadata": {},
     "output_type": "execute_result"
    }
   ],
   "source": [
    "del record1['contact number ']\n",
    "record1"
   ]
  },
  {
   "cell_type": "code",
   "execution_count": 102,
   "id": "85b2839b-8704-4b90-af36-8551492211b3",
   "metadata": {},
   "outputs": [
    {
     "data": {
      "text/plain": [
       "'male'"
      ]
     },
     "execution_count": 102,
     "metadata": {},
     "output_type": "execute_result"
    }
   ],
   "source": [
    "record1.pop('gender')"
   ]
  },
  {
   "cell_type": "code",
   "execution_count": 103,
   "id": "7e6c1faa-44f2-4fc7-a9f8-0444178a0b47",
   "metadata": {},
   "outputs": [
    {
     "data": {
      "text/plain": [
       "{'name': 'Zubair', 'age': 24, 'city': 'Karachi'}"
      ]
     },
     "execution_count": 103,
     "metadata": {},
     "output_type": "execute_result"
    }
   ],
   "source": [
    "record1"
   ]
  },
  {
   "cell_type": "code",
   "execution_count": 104,
   "id": "e8dd35c2-8ab9-41e3-be94-f27c47b0ad4f",
   "metadata": {},
   "outputs": [
    {
     "data": {
      "text/plain": [
       "('city', 'Karachi')"
      ]
     },
     "execution_count": 104,
     "metadata": {},
     "output_type": "execute_result"
    }
   ],
   "source": [
    "record1.popitem() # it will remove from the last "
   ]
  },
  {
   "cell_type": "code",
   "execution_count": 105,
   "id": "705220f9-4895-49f4-b4cd-08879231a6d6",
   "metadata": {},
   "outputs": [
    {
     "data": {
      "text/plain": [
       "dict_items([('name', 'Zubair'), ('age', 24)])"
      ]
     },
     "execution_count": 105,
     "metadata": {},
     "output_type": "execute_result"
    }
   ],
   "source": [
    "record1.items()"
   ]
  },
  {
   "cell_type": "code",
   "execution_count": null,
   "id": "24241267-7915-4e42-b76a-2696bd4968bb",
   "metadata": {},
   "outputs": [],
   "source": []
  },
  {
   "cell_type": "code",
   "execution_count": 106,
   "id": "c7e94653-7209-4ad7-b3fa-36c4fa025a0c",
   "metadata": {},
   "outputs": [
    {
     "ename": "KeyError",
     "evalue": "'gender'",
     "output_type": "error",
     "traceback": [
      "\u001b[31m---------------------------------------------------------------------------\u001b[39m",
      "\u001b[31mKeyError\u001b[39m                                  Traceback (most recent call last)",
      "\u001b[36mCell\u001b[39m\u001b[36m \u001b[39m\u001b[32mIn[106]\u001b[39m\u001b[32m, line 1\u001b[39m\n\u001b[32m----> \u001b[39m\u001b[32m1\u001b[39m \u001b[43mrecord1\u001b[49m\u001b[43m[\u001b[49m\u001b[33;43m'\u001b[39;49m\u001b[33;43mgender\u001b[39;49m\u001b[33;43m'\u001b[39;49m\u001b[43m]\u001b[49m \u001b[38;5;66;03m# if key is not it will throw the error\u001b[39;00m\n",
      "\u001b[31mKeyError\u001b[39m: 'gender'"
     ]
    }
   ],
   "source": [
    "record1['gender'] # if key is not it will throw the error"
   ]
  },
  {
   "cell_type": "code",
   "execution_count": 108,
   "id": "fb90be23-e673-4ab3-8f80-2657a23f8f0e",
   "metadata": {},
   "outputs": [],
   "source": [
    "record1.get('gender') # if key is not it will not throw the error and it not reture"
   ]
  },
  {
   "cell_type": "code",
   "execution_count": 110,
   "id": "7f483b3e-e06f-47bd-b837-f6d3a0fd3365",
   "metadata": {},
   "outputs": [
    {
     "data": {
      "text/plain": [
       "NoneType"
      ]
     },
     "execution_count": 110,
     "metadata": {},
     "output_type": "execute_result"
    }
   ],
   "source": [
    "type(record1.get('gender')) # it will return default noneType"
   ]
  },
  {
   "cell_type": "code",
   "execution_count": 116,
   "id": "27eed44f-f993-4206-b2b0-823e889ee178",
   "metadata": {},
   "outputs": [
    {
     "data": {
      "text/plain": [
       "'key does not exist'"
      ]
     },
     "execution_count": 116,
     "metadata": {},
     "output_type": "execute_result"
    }
   ],
   "source": [
    "record1.get('gender', \"key does not exist\") # we can set default value like message\n"
   ]
  },
  {
   "cell_type": "code",
   "execution_count": 117,
   "id": "a12830ea-7de5-40b6-b662-65ac531f7749",
   "metadata": {},
   "outputs": [],
   "source": [
    " meta_data = {'classes' : '7 to 10', 'course': \"Ai & DS\"}"
   ]
  },
  {
   "cell_type": "markdown",
   "id": "679fb75a-aa7f-4096-8da9-2fc9967fd5ae",
   "metadata": {},
   "source": [
    "## Update()"
   ]
  },
  {
   "cell_type": "code",
   "execution_count": 118,
   "id": "e4011f20-cdf9-41fc-a5d5-b8e085e4661f",
   "metadata": {},
   "outputs": [],
   "source": [
    "record1.update(meta_data) # update function will work like extend"
   ]
  },
  {
   "cell_type": "code",
   "execution_count": 119,
   "id": "ce667c65-5220-4215-8bfb-91908d2177bf",
   "metadata": {},
   "outputs": [
    {
     "data": {
      "text/plain": [
       "{'name': 'Zubair', 'age': 24, 'classes': '7 to 10', 'course': 'Ai & DS'}"
      ]
     },
     "execution_count": 119,
     "metadata": {},
     "output_type": "execute_result"
    }
   ],
   "source": [
    "record1"
   ]
  },
  {
   "cell_type": "markdown",
   "id": "c052d3bb-aec3-4728-bb1b-c8885d6442fd",
   "metadata": {},
   "source": []
  },
  {
   "cell_type": "code",
   "execution_count": null,
   "id": "0d513af0-cf15-4ca6-a2c5-710548c9cf4c",
   "metadata": {},
   "outputs": [],
   "source": []
  }
 ],
 "metadata": {
  "kernelspec": {
   "display_name": "Python 3 (ipykernel)",
   "language": "python",
   "name": "python3"
  },
  "language_info": {
   "codemirror_mode": {
    "name": "ipython",
    "version": 3
   },
   "file_extension": ".py",
   "mimetype": "text/x-python",
   "name": "python",
   "nbconvert_exporter": "python",
   "pygments_lexer": "ipython3",
   "version": "3.13.3"
  }
 },
 "nbformat": 4,
 "nbformat_minor": 5
}
