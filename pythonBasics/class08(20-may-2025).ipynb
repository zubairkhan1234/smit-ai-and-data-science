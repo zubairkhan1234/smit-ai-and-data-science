{
 "cells": [
  {
   "cell_type": "markdown",
   "id": "60448c25-8c9c-46bc-8cd9-d2e19ccdbbe5",
   "metadata": {},
   "source": [
    "# Revision of dictionary "
   ]
  },
  {
   "cell_type": "code",
   "execution_count": null,
   "id": "c8dd36bd-88a0-4eba-9734-7057fa0f789b",
   "metadata": {},
   "outputs": [],
   "source": []
  },
  {
   "cell_type": "code",
   "execution_count": null,
   "id": "3060ae06-06c1-4835-a312-da4cce13f90e",
   "metadata": {},
   "outputs": [],
   "source": []
  },
  {
   "cell_type": "code",
   "execution_count": null,
   "id": "f0ae47e1-0042-4220-92b9-607664f9ae92",
   "metadata": {},
   "outputs": [],
   "source": []
  },
  {
   "cell_type": "code",
   "execution_count": null,
   "id": "5950d2e6-a2b8-427d-85bd-923a630d78c2",
   "metadata": {},
   "outputs": [],
   "source": []
  },
  {
   "cell_type": "markdown",
   "id": "31088b2a-c9ca-40bf-aca6-d16abae11860",
   "metadata": {},
   "source": [
    "# Revision of list"
   ]
  },
  {
   "cell_type": "code",
   "execution_count": 3,
   "id": "d0cd615f-a9d4-4629-9ade-cd7b72168562",
   "metadata": {},
   "outputs": [],
   "source": [
    "list_number = [1,2,3,4,5,6,7,8, [12,3,43,4,54,5,4,5,4,54,45,4,55], {\"first_name\": \"Muhammad\", 'last_name': 'Zubair'}]"
   ]
  },
  {
   "cell_type": "code",
   "execution_count": 6,
   "id": "fc76b8c7-4e0e-4c9d-9ca1-3fb6e4eeae06",
   "metadata": {},
   "outputs": [
    {
     "name": "stdout",
     "output_type": "stream",
     "text": [
      "User Data ==>  {'first_name': 'Muhammad', 'last_name': 'Zubair'}\n"
     ]
    }
   ],
   "source": [
    "user_data = list_number[len(list_number) - 1]\n",
    "print(\"User Data ==> \" ,user_data)"
   ]
  },
  {
   "cell_type": "code",
   "execution_count": 9,
   "id": "b0e4535d-d338-4797-9b54-c8e674ebe1f7",
   "metadata": {},
   "outputs": [
    {
     "data": {
      "text/plain": [
       "54"
      ]
     },
     "execution_count": 9,
     "metadata": {},
     "output_type": "execute_result"
    }
   ],
   "source": [
    "list_number[8][9]"
   ]
  },
  {
   "cell_type": "code",
   "execution_count": 12,
   "id": "a3ca243f-9079-494c-98c4-2efdba3a1466",
   "metadata": {},
   "outputs": [
    {
     "data": {
      "text/plain": [
       "'Salman'"
      ]
     },
     "execution_count": 12,
     "metadata": {},
     "output_type": "execute_result"
    }
   ],
   "source": [
    "# Changed lastName\n",
    "\n",
    "\n",
    "user_name = list_number[len(list_number) - 1 ]['last_name'] = \"Salman\"\n",
    "user_name"
   ]
  },
  {
   "cell_type": "code",
   "execution_count": 13,
   "id": "fa4148f8-4dc9-4047-a1a0-6652b11919a2",
   "metadata": {},
   "outputs": [
    {
     "data": {
      "text/plain": [
       "[1,\n",
       " 2,\n",
       " 3,\n",
       " 4,\n",
       " 5,\n",
       " 6,\n",
       " 7,\n",
       " 8,\n",
       " [12, 3, 43, 4, 54, 5, 4, 5, 4, 54, 45, 4, 55],\n",
       " {'first_name': 'Muhammad', 'last_name': 'Salman'}]"
      ]
     },
     "execution_count": 13,
     "metadata": {},
     "output_type": "execute_result"
    }
   ],
   "source": [
    "list_number "
   ]
  },
  {
   "cell_type": "code",
   "execution_count": null,
   "id": "ad1a3d42-5660-423c-9fa1-feab014533ad",
   "metadata": {},
   "outputs": [],
   "source": []
  },
  {
   "cell_type": "markdown",
   "id": "375e134b-6ced-44e5-9262-de2b6db606f0",
   "metadata": {},
   "source": [
    "# Loop\n",
    "    - for in Loop\n",
    "    - while loop"
   ]
  },
  {
   "cell_type": "code",
   "execution_count": 15,
   "id": "a1094df3-3159-4359-a1b2-987c383c0315",
   "metadata": {},
   "outputs": [],
   "source": [
    "# Sorting data by data type"
   ]
  },
  {
   "cell_type": "code",
   "execution_count": 24,
   "id": "8b7867d3-0284-45ec-aead-60a1aee489b4",
   "metadata": {},
   "outputs": [
    {
     "name": "stdout",
     "output_type": "stream",
     "text": [
      "[12, 3, 43, 4, 54, 5, 4, 5, 4, 54, 45, 4, 55]\n"
     ]
    }
   ],
   "source": [
    "number_data = [ ]\n",
    "dictionary_data = []\n",
    "number_data = []\n",
    "\n",
    "for index in list_number:\n",
    "    if type(index) == list:\n",
    "        print(index)"
   ]
  },
  {
   "cell_type": "code",
   "execution_count": null,
   "id": "bcbcc473-3ff3-4f68-8b3b-515b2bc7f759",
   "metadata": {},
   "outputs": [],
   "source": []
  },
  {
   "cell_type": "code",
   "execution_count": null,
   "id": "748ad79d-d252-4346-b93a-12be6745b366",
   "metadata": {},
   "outputs": [],
   "source": []
  },
  {
   "cell_type": "code",
   "execution_count": null,
   "id": "723a675d-46b2-4cef-b0bb-3ee56690520f",
   "metadata": {},
   "outputs": [],
   "source": []
  },
  {
   "cell_type": "code",
   "execution_count": null,
   "id": "da83d452-ac26-420b-b40e-c5cf51b065d9",
   "metadata": {},
   "outputs": [],
   "source": []
  },
  {
   "cell_type": "code",
   "execution_count": null,
   "id": "246e7a22-4ff7-4d6b-892e-1b7d826a3253",
   "metadata": {},
   "outputs": [],
   "source": []
  },
  {
   "cell_type": "code",
   "execution_count": null,
   "id": "f0f92ecc-77c1-4353-b558-874cd09f52a9",
   "metadata": {},
   "outputs": [],
   "source": []
  },
  {
   "cell_type": "code",
   "execution_count": null,
   "id": "abd1aceb-0f76-49ed-8638-06430d01dd34",
   "metadata": {},
   "outputs": [],
   "source": []
  },
  {
   "cell_type": "code",
   "execution_count": null,
   "id": "abcfddd7-fee2-4c89-b681-d40f2667d5cc",
   "metadata": {},
   "outputs": [],
   "source": []
  },
  {
   "cell_type": "code",
   "execution_count": null,
   "id": "d06f82fc-6368-49ae-a89a-b0d688417034",
   "metadata": {},
   "outputs": [],
   "source": []
  },
  {
   "cell_type": "code",
   "execution_count": null,
   "id": "1e52f1c2-b535-4b10-a7eb-e59252bd0064",
   "metadata": {},
   "outputs": [],
   "source": []
  },
  {
   "cell_type": "code",
   "execution_count": null,
   "id": "52ddbe16-0b19-44b4-b169-3bdcc7d74c56",
   "metadata": {},
   "outputs": [],
   "source": []
  }
 ],
 "metadata": {
  "kernelspec": {
   "display_name": "Python 3 (ipykernel)",
   "language": "python",
   "name": "python3"
  },
  "language_info": {
   "codemirror_mode": {
    "name": "ipython",
    "version": 3
   },
   "file_extension": ".py",
   "mimetype": "text/x-python",
   "name": "python",
   "nbconvert_exporter": "python",
   "pygments_lexer": "ipython3",
   "version": "3.13.3"
  }
 },
 "nbformat": 4,
 "nbformat_minor": 5
}
