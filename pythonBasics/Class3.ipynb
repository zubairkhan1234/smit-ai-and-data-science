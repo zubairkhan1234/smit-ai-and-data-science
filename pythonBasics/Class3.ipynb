{
 "cells": [
  {
   "cell_type": "code",
   "execution_count": 5,
   "id": "5e54198e-6d0b-47df-8df8-9a79e9cdfe76",
   "metadata": {},
   "outputs": [
    {
     "data": {
      "text/plain": [
       "int"
      ]
     },
     "execution_count": 5,
     "metadata": {},
     "output_type": "execute_result"
    }
   ],
   "source": [
    "x= 1\n",
    "type(x)"
   ]
  },
  {
   "cell_type": "code",
   "execution_count": 4,
   "id": "16f14f9f-99a4-4290-ae11-d33c60bb01e2",
   "metadata": {},
   "outputs": [
    {
     "data": {
      "text/plain": [
       "True"
      ]
     },
     "execution_count": 4,
     "metadata": {},
     "output_type": "execute_result"
    }
   ],
   "source": [
    "isinstance(x,int)"
   ]
  },
  {
   "cell_type": "code",
   "execution_count": 6,
   "id": "b94391e0-9b9b-4a3e-b224-614417f23307",
   "metadata": {},
   "outputs": [],
   "source": [
    "a = 100\n",
    "b = 200"
   ]
  },
  {
   "cell_type": "code",
   "execution_count": 9,
   "id": "a3fd7133-61b8-4aae-b003-6bfd885245ff",
   "metadata": {},
   "outputs": [
    {
     "data": {
      "text/plain": [
       "''"
      ]
     },
     "execution_count": 9,
     "metadata": {},
     "output_type": "execute_result"
    }
   ],
   "source": [
    "a and b and \"\""
   ]
  },
  {
   "cell_type": "code",
   "execution_count": 8,
   "id": "1749cf07-6229-4c9f-a2b0-a693ee63adab",
   "metadata": {},
   "outputs": [
    {
     "data": {
      "text/plain": [
       "100"
      ]
     },
     "execution_count": 8,
     "metadata": {},
     "output_type": "execute_result"
    }
   ],
   "source": [
    "a or b"
   ]
  },
  {
   "cell_type": "code",
   "execution_count": 10,
   "id": "2874a8d6-aed2-4836-b89b-5b3f6f2fe3d6",
   "metadata": {},
   "outputs": [
    {
     "data": {
      "text/plain": [
       "'Python'"
      ]
     },
     "execution_count": 10,
     "metadata": {},
     "output_type": "execute_result"
    }
   ],
   "source": [
    "\"Python\""
   ]
  },
  {
   "cell_type": "code",
   "execution_count": 12,
   "id": "a70964fc-04f8-46e6-9307-dfe6b5981de4",
   "metadata": {},
   "outputs": [
    {
     "ename": "ValueError",
     "evalue": "math domain error",
     "output_type": "error",
     "traceback": [
      "\u001b[1;31m---------------------------------------------------------------------------\u001b[0m",
      "\u001b[1;31mValueError\u001b[0m                                Traceback (most recent call last)",
      "Cell \u001b[1;32mIn[12], line 3\u001b[0m\n\u001b[0;32m      1\u001b[0m x \u001b[38;5;241m=\u001b[39m \u001b[38;5;241m-\u001b[39m\u001b[38;5;241m100\u001b[39m\n\u001b[0;32m      2\u001b[0m \u001b[38;5;28;01mfrom\u001b[39;00m \u001b[38;5;21;01mmath\u001b[39;00m \u001b[38;5;28;01mimport\u001b[39;00m sqrt\n\u001b[1;32m----> 3\u001b[0m x \u001b[38;5;241m>\u001b[39m \u001b[38;5;241m0\u001b[39m \u001b[38;5;129;01mor\u001b[39;00m sqrt(x)\n",
      "\u001b[1;31mValueError\u001b[0m: math domain error"
     ]
    }
   ],
   "source": [
    "x = -100\n",
    "from math import sqrt\n",
    "x > 0 or sqrt(x)"
   ]
  },
  {
   "cell_type": "code",
   "execution_count": 13,
   "id": "5172d16e-b9ce-4c27-97a2-e41e8dd60d87",
   "metadata": {},
   "outputs": [],
   "source": [
    "x=10 "
   ]
  },
  {
   "cell_type": "code",
   "execution_count": 14,
   "id": "449d1d98-302a-40a8-9701-87813e3e936d",
   "metadata": {},
   "outputs": [],
   "source": [
    "y = x"
   ]
  },
  {
   "cell_type": "code",
   "execution_count": 18,
   "id": "a54c407b-76a4-45f6-9bdd-12aba3f91689",
   "metadata": {},
   "outputs": [
    {
     "data": {
      "text/plain": [
       "True"
      ]
     },
     "execution_count": 18,
     "metadata": {},
     "output_type": "execute_result"
    }
   ],
   "source": [
    "y is x"
   ]
  },
  {
   "cell_type": "code",
   "execution_count": 19,
   "id": "399d7e75-0353-45fe-80bd-950734fb8234",
   "metadata": {},
   "outputs": [
    {
     "data": {
      "text/plain": [
       "140712771410648"
      ]
     },
     "execution_count": 19,
     "metadata": {},
     "output_type": "execute_result"
    }
   ],
   "source": [
    "id(x)"
   ]
  },
  {
   "cell_type": "code",
   "execution_count": 20,
   "id": "5163bbb7-2086-40e5-90bf-1307468eb8c7",
   "metadata": {},
   "outputs": [
    {
     "data": {
      "text/plain": [
       "140712771410648"
      ]
     },
     "execution_count": 20,
     "metadata": {},
     "output_type": "execute_result"
    }
   ],
   "source": [
    "id(y)"
   ]
  },
  {
   "cell_type": "code",
   "execution_count": 21,
   "id": "ed255a7e-6c0b-483d-b776-ee977569f668",
   "metadata": {},
   "outputs": [],
   "source": [
    "z = 10"
   ]
  },
  {
   "cell_type": "code",
   "execution_count": 22,
   "id": "1fc9d715-23cd-48e5-9c7b-e1d104e48e48",
   "metadata": {},
   "outputs": [
    {
     "data": {
      "text/plain": [
       "True"
      ]
     },
     "execution_count": 22,
     "metadata": {},
     "output_type": "execute_result"
    }
   ],
   "source": [
    "z is x"
   ]
  },
  {
   "cell_type": "code",
   "execution_count": 23,
   "id": "6263f64a-f729-42a0-890a-fa9235f291a8",
   "metadata": {},
   "outputs": [
    {
     "data": {
      "text/plain": [
       "140712771410648"
      ]
     },
     "execution_count": 23,
     "metadata": {},
     "output_type": "execute_result"
    }
   ],
   "source": [
    "id(z)"
   ]
  },
  {
   "cell_type": "code",
   "execution_count": 24,
   "id": "9fbdf825-bdcb-4885-8502-880833147118",
   "metadata": {},
   "outputs": [],
   "source": [
    "z= 100"
   ]
  },
  {
   "cell_type": "code",
   "execution_count": 25,
   "id": "085e93ff-18c8-4004-a6d6-dd84dfb89a3d",
   "metadata": {},
   "outputs": [
    {
     "data": {
      "text/plain": [
       "140712771413528"
      ]
     },
     "execution_count": 25,
     "metadata": {},
     "output_type": "execute_result"
    }
   ],
   "source": [
    "id(z)"
   ]
  },
  {
   "cell_type": "markdown",
   "id": "7832bf5e-c4b2-4a61-a99c-48977989ea3b",
   "metadata": {},
   "source": [
    "# Topics Today\n",
    "  - Variables\n",
    "  - Expression\n",
    "  - String(str)"
   ]
  },
  {
   "cell_type": "markdown",
   "id": "c3a36aac-18a4-4220-8ed6-00e04382a5a4",
   "metadata": {},
   "source": [
    "# Variables: Are identifier\n",
    "           Data Container\n",
    "           \n",
    "       "
   ]
  },
  {
   "cell_type": "code",
   "execution_count": 26,
   "id": "cc45881d-b9c3-4fda-bc03-ad8cfb15a54f",
   "metadata": {},
   "outputs": [],
   "source": [
    "age  = 30"
   ]
  },
  {
   "cell_type": "code",
   "execution_count": 27,
   "id": "46be05fa-1a76-4a15-9e9b-c8eb3edd2a6a",
   "metadata": {},
   "outputs": [
    {
     "name": "stdout",
     "output_type": "stream",
     "text": [
      "30\n"
     ]
    }
   ],
   "source": [
    "print(age)"
   ]
  },
  {
   "cell_type": "code",
   "execution_count": 28,
   "id": "fbf16a85-3743-4461-b8d2-e8ab615f17fc",
   "metadata": {},
   "outputs": [],
   "source": [
    "age = 40 "
   ]
  },
  {
   "cell_type": "code",
   "execution_count": 29,
   "id": "b3fb8b5c-d416-44c0-bd77-52257c70bff3",
   "metadata": {},
   "outputs": [
    {
     "name": "stdout",
     "output_type": "stream",
     "text": [
      "40\n"
     ]
    }
   ],
   "source": [
    "print(age)"
   ]
  },
  {
   "cell_type": "code",
   "execution_count": 30,
   "id": "1eb3b201-3022-4869-8577-45c40e92c7d5",
   "metadata": {},
   "outputs": [],
   "source": [
    "name = \"Nasir Hussain\""
   ]
  },
  {
   "cell_type": "code",
   "execution_count": 31,
   "id": "bb2e1d6c-4380-4807-ae34-33412efd641f",
   "metadata": {},
   "outputs": [
    {
     "data": {
      "text/plain": [
       "str"
      ]
     },
     "execution_count": 31,
     "metadata": {},
     "output_type": "execute_result"
    }
   ],
   "source": [
    "type(name)"
   ]
  },
  {
   "cell_type": "code",
   "execution_count": 32,
   "id": "4678779f-c1b1-4625-8dc1-9214b42d0f3c",
   "metadata": {},
   "outputs": [
    {
     "data": {
      "text/plain": [
       "int"
      ]
     },
     "execution_count": 32,
     "metadata": {},
     "output_type": "execute_result"
    }
   ],
   "source": [
    "type(age)"
   ]
  },
  {
   "cell_type": "code",
   "execution_count": 36,
   "id": "edd6f751-2139-4914-bba5-fd629217d613",
   "metadata": {},
   "outputs": [
    {
     "name": "stdout",
     "output_type": "stream",
     "text": [
      "Nasir Hussain\n"
     ]
    }
   ],
   "source": [
    "\n",
    "age\n",
    "print(name)"
   ]
  },
  {
   "cell_type": "markdown",
   "id": "376a6c31-cc76-4e4a-8145-835e39a76490",
   "metadata": {},
   "source": [
    "# Variable naming"
   ]
  },
  {
   "attachments": {
    "75daf6bc-ba49-4664-8a05-461749f29972.png": {
     "image/png": "[encoded data removed]"
    }
   },
   "cell_type": "markdown",
   "id": "9c62b61d-8c54-4301-9ca4-bca9b506c0ad",
   "metadata": {},
   "source": [
    "![image.png](attachment:75daf6bc-ba49-4664-8a05-461749f29972.png)"
   ]
  },
  {
   "cell_type": "code",
   "execution_count": 37,
   "id": "2e878d21-794e-464a-acd1-476d57b2b368",
   "metadata": {},
   "outputs": [
    {
     "ename": "SyntaxError",
     "evalue": "invalid decimal literal (552964760.py, line 1)",
     "output_type": "error",
     "traceback": [
      "\u001b[1;36m  Cell \u001b[1;32mIn[37], line 1\u001b[1;36m\u001b[0m\n\u001b[1;33m    1st_student  = \"SAD\"\u001b[0m\n\u001b[1;37m    ^\u001b[0m\n\u001b[1;31mSyntaxError\u001b[0m\u001b[1;31m:\u001b[0m invalid decimal literal\n"
     ]
    }
   ],
   "source": [
    "student1  = \"SAD\""
   ]
  },
  {
   "cell_type": "raw",
   "id": "ba18f121-2eed-4738-8062-4099d448f44f",
   "metadata": {},
   "source": [
    "!@#$%^&*()-, "
   ]
  },
  {
   "cell_type": "markdown",
   "id": "979a208c-92e3-4eb3-8533-8331e2150c66",
   "metadata": {},
   "source": [
    "# Conventions to declare a variable\n",
    "\n",
    "    ### Common Naming Styles:\n",
    " - Snake Case:\n",
    "       Uses lowercase letters and underscores to separate words (e.g., my_variable_name).\n",
    "- Camel Case:\n",
    "         Uses lowercase for the first word and capital letters for subsequent words (e.g., myVariableName).\n",
    "- Pascal Case:\n",
    "        Capitalizes the first letter of each word (e.g., MyVariableName).\n",
    "- Kebab Case:\n",
    "       Uses lowercase letters and hyphens to separate words (e.g., my-variable-name). "
   ]
  },
  {
   "cell_type": "code",
   "execution_count": 38,
   "id": "b045de82-7955-4410-9499-a8c188bd07cf",
   "metadata": {},
   "outputs": [],
   "source": [
    "my_first_programming_book = \"python for all\""
   ]
  },
  {
   "cell_type": "code",
   "execution_count": 40,
   "id": "118cfbcb-2428-4510-8d64-04255f101317",
   "metadata": {},
   "outputs": [],
   "source": [
    "myFirstProgrammingBoook = "
   ]
  },
  {
   "cell_type": "code",
   "execution_count": 41,
   "id": "1a41cb98-1f27-4b77-a6dd-289b56af9235",
   "metadata": {},
   "outputs": [],
   "source": [
    "MyFirstProgrammingBoook  =\"python for all\""
   ]
  },
  {
   "cell_type": "code",
   "execution_count": 42,
   "id": "5191ff00-aaf8-403d-8574-fd61471e49ae",
   "metadata": {},
   "outputs": [],
   "source": [
    "MYNAME = \"NASIR\""
   ]
  },
  {
   "cell_type": "markdown",
   "id": "23f80e4c-d2b0-4ac4-8fa3-3b459641837e",
   "metadata": {},
   "source": [
    "# Python String\n",
    "         - string is immutable (can not be changed)"
   ]
  },
  {
   "cell_type": "code",
   "execution_count": 44,
   "id": "39e2ce5b-0519-4431-9cf5-fc809d908975",
   "metadata": {},
   "outputs": [],
   "source": [
    "text = 'adhering to a consistent naming style'"
   ]
  },
  {
   "cell_type": "code",
   "execution_count": 45,
   "id": "ab4fb70a-2ed7-46ec-970d-4b26cad74e88",
   "metadata": {},
   "outputs": [
    {
     "name": "stdout",
     "output_type": "stream",
     "text": [
      "<class 'str'>\n"
     ]
    }
   ],
   "source": [
    "print(type(text))"
   ]
  },
  {
   "cell_type": "code",
   "execution_count": 49,
   "id": "61cb5e6d-6e35-43a8-ae53-07c101bcc58a",
   "metadata": {},
   "outputs": [
    {
     "data": {
      "text/plain": [
       "'Adhering to a consistent naming style'"
      ]
     },
     "execution_count": 49,
     "metadata": {},
     "output_type": "execute_result"
    }
   ],
   "source": [
    "text.capitalize()"
   ]
  },
  {
   "cell_type": "code",
   "execution_count": 50,
   "id": "c2068cd7-d5e7-404f-815f-798819138245",
   "metadata": {},
   "outputs": [
    {
     "data": {
      "text/plain": [
       "'adhering to a consistent naming style'"
      ]
     },
     "execution_count": 50,
     "metadata": {},
     "output_type": "execute_result"
    }
   ],
   "source": [
    "text"
   ]
  },
  {
   "cell_type": "code",
   "execution_count": 52,
   "id": "d8ddcd0c-e2af-4e0b-ac84-3f25318bcd4d",
   "metadata": {},
   "outputs": [
    {
     "data": {
      "text/plain": [
       "'Adhering to a consistent naming style'"
      ]
     },
     "execution_count": 52,
     "metadata": {},
     "output_type": "execute_result"
    }
   ],
   "source": [
    "text.capitalize()"
   ]
  },
  {
   "cell_type": "code",
   "execution_count": 53,
   "id": "32ce1f8c-b9eb-4fb0-ac2f-2acd661e88fa",
   "metadata": {},
   "outputs": [
    {
     "data": {
      "text/plain": [
       "'adhering to a consistent naming style'"
      ]
     },
     "execution_count": 53,
     "metadata": {},
     "output_type": "execute_result"
    }
   ],
   "source": [
    "text.lower()"
   ]
  },
  {
   "cell_type": "code",
   "execution_count": 54,
   "id": "d2d8bb91-450b-4587-b4f3-6d228901180c",
   "metadata": {},
   "outputs": [
    {
     "data": {
      "text/plain": [
       "'ADHERING TO A CONSISTENT NAMING STYLE'"
      ]
     },
     "execution_count": 54,
     "metadata": {},
     "output_type": "execute_result"
    }
   ],
   "source": [
    "text.upper()"
   ]
  },
  {
   "cell_type": "code",
   "execution_count": 56,
   "id": "aadf726c-ac1e-420d-a729-6da1338f2625",
   "metadata": {},
   "outputs": [
    {
     "data": {
      "text/plain": [
       "3"
      ]
     },
     "execution_count": 56,
     "metadata": {},
     "output_type": "execute_result"
    }
   ],
   "source": [
    "text.count('e')"
   ]
  },
  {
   "cell_type": "code",
   "execution_count": 66,
   "id": "d71125b6-cf80-40cf-801d-222a58c4bffa",
   "metadata": {},
   "outputs": [
    {
     "data": {
      "text/plain": [
       "33"
      ]
     },
     "execution_count": 66,
     "metadata": {},
     "output_type": "execute_result"
    }
   ],
   "source": [
    "text.find('t',24)"
   ]
  },
  {
   "cell_type": "code",
   "execution_count": 67,
   "id": "6e4eba16-439b-4f19-8094-5f639539cf0c",
   "metadata": {},
   "outputs": [
    {
     "data": {
      "text/plain": [
       "False"
      ]
     },
     "execution_count": 67,
     "metadata": {},
     "output_type": "execute_result"
    }
   ],
   "source": [
    "text.endswith(\"E\")"
   ]
  },
  {
   "cell_type": "code",
   "execution_count": 68,
   "id": "2ec711df-114e-4fe1-a7b8-dfa3a6f57a45",
   "metadata": {},
   "outputs": [
    {
     "data": {
      "text/plain": [
       "True"
      ]
     },
     "execution_count": 68,
     "metadata": {},
     "output_type": "execute_result"
    }
   ],
   "source": [
    "text.startswith(\"E\")"
   ]
  },
  {
   "cell_type": "code",
   "execution_count": 75,
   "id": "77127a26-0dc4-4a4e-8002-e401c6718bb1",
   "metadata": {},
   "outputs": [],
   "source": [
    "name = \" Nasir Hussain \""
   ]
  },
  {
   "cell_type": "code",
   "execution_count": 76,
   "id": "dd48bf41-a563-4c42-b578-77ed01f00d3d",
   "metadata": {},
   "outputs": [
    {
     "data": {
      "text/plain": [
       "15"
      ]
     },
     "execution_count": 76,
     "metadata": {},
     "output_type": "execute_result"
    }
   ],
   "source": [
    "len(name)"
   ]
  },
  {
   "cell_type": "code",
   "execution_count": 77,
   "id": "7e9050cd-622b-481d-81df-a111a7f65d66",
   "metadata": {},
   "outputs": [
    {
     "data": {
      "text/plain": [
       "False"
      ]
     },
     "execution_count": 77,
     "metadata": {},
     "output_type": "execute_result"
    }
   ],
   "source": [
    "name==\"Nasir Hussain\""
   ]
  },
  {
   "cell_type": "code",
   "execution_count": 78,
   "id": "d9018dbe-3fdc-4c9a-83af-36af06a7c195",
   "metadata": {},
   "outputs": [
    {
     "data": {
      "text/plain": [
       "' Nasir Hussain'"
      ]
     },
     "execution_count": 78,
     "metadata": {},
     "output_type": "execute_result"
    }
   ],
   "source": [
    "name.rstrip()"
   ]
  },
  {
   "cell_type": "code",
   "execution_count": 79,
   "id": "1d028791-52f7-4b2d-b3ef-579284fd4765",
   "metadata": {},
   "outputs": [
    {
     "data": {
      "text/plain": [
       "'Nasir Hussain '"
      ]
     },
     "execution_count": 79,
     "metadata": {},
     "output_type": "execute_result"
    }
   ],
   "source": [
    "name.lstrip()"
   ]
  },
  {
   "cell_type": "code",
   "execution_count": 80,
   "id": "e1b5e3f9-fc46-4638-bb35-549278b2a7d5",
   "metadata": {},
   "outputs": [
    {
     "data": {
      "text/plain": [
       "'Nasir Hussain'"
      ]
     },
     "execution_count": 80,
     "metadata": {},
     "output_type": "execute_result"
    }
   ],
   "source": [
    "name.strip()"
   ]
  },
  {
   "cell_type": "code",
   "execution_count": 81,
   "id": "a0f27935-209a-43a5-930e-26f1ce6010a9",
   "metadata": {},
   "outputs": [
    {
     "data": {
      "text/plain": [
       "'NasirHussain'"
      ]
     },
     "execution_count": 81,
     "metadata": {},
     "output_type": "execute_result"
    }
   ],
   "source": [
    "name.replace(\" \",\"\")"
   ]
  },
  {
   "cell_type": "code",
   "execution_count": 82,
   "id": "26079b76-d68b-42ef-9f2f-d91abe1af7b2",
   "metadata": {},
   "outputs": [
    {
     "data": {
      "text/plain": [
       "' Yasir Hussain '"
      ]
     },
     "execution_count": 82,
     "metadata": {},
     "output_type": "execute_result"
    }
   ],
   "source": [
    "name.replace(\"N\",\"Y\")"
   ]
  },
  {
   "cell_type": "markdown",
   "id": "fc644034-f7a8-496b-8fb0-efc92143027a",
   "metadata": {},
   "source": [
    "# is....()"
   ]
  },
  {
   "cell_type": "code",
   "execution_count": 93,
   "id": "6ededed8-6af7-43f7-b765-66a4c655fe9f",
   "metadata": {},
   "outputs": [],
   "source": [
    "age = \"23\"\n",
    "name = 'asad'\n",
    "var  = \" \"\n"
   ]
  },
  {
   "cell_type": "code",
   "execution_count": 94,
   "id": "dbf07681-923b-4a95-9119-51f3844efaa8",
   "metadata": {},
   "outputs": [
    {
     "data": {
      "text/plain": [
       "False"
      ]
     },
     "execution_count": 94,
     "metadata": {},
     "output_type": "execute_result"
    }
   ],
   "source": [
    "age.isalpha()"
   ]
  },
  {
   "cell_type": "code",
   "execution_count": 95,
   "id": "02b29dce-85c2-46e1-9d3c-0aab4d23c596",
   "metadata": {},
   "outputs": [
    {
     "data": {
      "text/plain": [
       "True"
      ]
     },
     "execution_count": 95,
     "metadata": {},
     "output_type": "execute_result"
    }
   ],
   "source": [
    "age.isalnum()"
   ]
  },
  {
   "cell_type": "code",
   "execution_count": 96,
   "id": "02252e64-3b97-4566-974d-2a1b4f417b5a",
   "metadata": {},
   "outputs": [
    {
     "data": {
      "text/plain": [
       "True"
      ]
     },
     "execution_count": 96,
     "metadata": {},
     "output_type": "execute_result"
    }
   ],
   "source": [
    "var.isspace()"
   ]
  },
  {
   "cell_type": "code",
   "execution_count": 97,
   "id": "22238775-e8ad-4193-ac27-2d75b5f162cb",
   "metadata": {},
   "outputs": [
    {
     "data": {
      "text/plain": [
       "True"
      ]
     },
     "execution_count": 97,
     "metadata": {},
     "output_type": "execute_result"
    }
   ],
   "source": [
    "age.isdigit()"
   ]
  },
  {
   "cell_type": "markdown",
   "id": "c78ff1c7-a760-47f2-8d34-2eaf87f4fc15",
   "metadata": {},
   "source": [
    "# String Format   and  String COncatenate(join)"
   ]
  },
  {
   "cell_type": "code",
   "execution_count": 98,
   "id": "ccb1c3c3-8284-412c-bc83-bac46ef769c2",
   "metadata": {},
   "outputs": [],
   "source": [
    "first_name = \"Nasir\""
   ]
  },
  {
   "cell_type": "code",
   "execution_count": 99,
   "id": "7c1e5d77-e7b0-4092-a81c-89973bec11b5",
   "metadata": {},
   "outputs": [],
   "source": [
    "last_name  = \"Hussain\""
   ]
  },
  {
   "cell_type": "code",
   "execution_count": 100,
   "id": "91a65760-705b-41c1-814f-8768ade7126f",
   "metadata": {},
   "outputs": [
    {
     "data": {
      "text/plain": [
       "'NasirHussain'"
      ]
     },
     "execution_count": 100,
     "metadata": {},
     "output_type": "execute_result"
    }
   ],
   "source": [
    "# + is used as concatneation operator\n",
    "full_name = first_name + last_name\n",
    "full_name"
   ]
  },
  {
   "cell_type": "code",
   "execution_count": 101,
   "id": "24c4d90f-1a24-4af5-b884-a22ceaecb3cd",
   "metadata": {},
   "outputs": [
    {
     "data": {
      "text/plain": [
       "'Nasir Hussain'"
      ]
     },
     "execution_count": 101,
     "metadata": {},
     "output_type": "execute_result"
    }
   ],
   "source": [
    "full_name = first_name + \" \" + last_name\n",
    "full_name"
   ]
  },
  {
   "cell_type": "code",
   "execution_count": 119,
   "id": "cf43b1ab-ecf5-4871-8d28-04418d1fc09f",
   "metadata": {},
   "outputs": [
    {
     "name": "stdin",
     "output_type": "stream",
     "text": [
      "Apna naam bataen:  Shumaila\n",
      "Tumahri Umaer kitni hy 30\n",
      "Kinse city se ho? Lahore\n"
     ]
    },
    {
     "name": "stdout",
     "output_type": "stream",
     "text": [
      "Name uska Shumaila hy. Umer uski 30.0 hy. Wo rehti hyLahoreme\n"
     ]
    }
   ],
   "source": [
    "name = input(\"Apna naam bataen: \")\n",
    "age  = float(input(\"Tumahri Umaer kitni hy\"))\n",
    "city = input(\"Kinse city se ho?\")\n",
    "\n",
    "print(\"Name uska \"+ name+\" hy. Umer uski \"+str(age)+\" hy. Wo rehti hy\"+city + \"me\")"
   ]
  },
  {
   "cell_type": "code",
   "execution_count": 115,
   "id": "71743bc8-a8b6-471d-b5ad-fcb8f77b952f",
   "metadata": {},
   "outputs": [
    {
     "data": {
      "text/plain": [
       "'shumaila'"
      ]
     },
     "execution_count": 115,
     "metadata": {},
     "output_type": "execute_result"
    }
   ],
   "source": [
    "name"
   ]
  },
  {
   "cell_type": "code",
   "execution_count": 116,
   "id": "192aad97-32f9-4414-8692-0f011cd3d6e4",
   "metadata": {},
   "outputs": [
    {
     "data": {
      "text/plain": [
       "40.0"
      ]
     },
     "execution_count": 116,
     "metadata": {},
     "output_type": "execute_result"
    }
   ],
   "source": [
    "age+10"
   ]
  },
  {
   "cell_type": "code",
   "execution_count": 109,
   "id": "7ea1af06-9d3d-4055-b5a8-b5970ce09b6e",
   "metadata": {},
   "outputs": [
    {
     "data": {
      "text/plain": [
       "'Lahore'"
      ]
     },
     "execution_count": 109,
     "metadata": {},
     "output_type": "execute_result"
    }
   ],
   "source": [
    "city"
   ]
  },
  {
   "cell_type": "markdown",
   "id": "50730d3c-a88f-43b3-9ead-7c7e7920f60e",
   "metadata": {},
   "source": [
    "# Type Casting"
   ]
  },
  {
   "cell_type": "code",
   "execution_count": 110,
   "id": "c72721c9-44ca-4dd9-a09d-996a4e782434",
   "metadata": {},
   "outputs": [
    {
     "data": {
      "text/plain": [
       "23"
      ]
     },
     "execution_count": 110,
     "metadata": {},
     "output_type": "execute_result"
    }
   ],
   "source": [
    "int(\"23\")"
   ]
  },
  {
   "cell_type": "code",
   "execution_count": 111,
   "id": "4e36e9f7-7fcc-44fc-a022-862f8e165152",
   "metadata": {},
   "outputs": [
    {
     "data": {
      "text/plain": [
       "23.0"
      ]
     },
     "execution_count": 111,
     "metadata": {},
     "output_type": "execute_result"
    }
   ],
   "source": [
    "float(\"23\")"
   ]
  },
  {
   "cell_type": "code",
   "execution_count": 112,
   "id": "b0df2541-ddad-49c4-8363-6b5077a02178",
   "metadata": {},
   "outputs": [
    {
     "data": {
      "text/plain": [
       "'123'"
      ]
     },
     "execution_count": 112,
     "metadata": {},
     "output_type": "execute_result"
    }
   ],
   "source": [
    "str(123)"
   ]
  },
  {
   "cell_type": "markdown",
   "id": "5446b6cb-f4f7-4b98-8fe5-cc8e508ea236",
   "metadata": {},
   "source": [
    "# f-String"
   ]
  },
  {
   "cell_type": "code",
   "execution_count": 122,
   "id": "91f4a7a3-900b-4e4a-9fcd-3f235500b695",
   "metadata": {},
   "outputs": [
    {
     "name": "stdin",
     "output_type": "stream",
     "text": [
      "Apna naam bataen:  Sara\n",
      "Tumahri Umaer kitni hy 12\n",
      "Kinse city se ho? Karachi\n"
     ]
    },
    {
     "name": "stdout",
     "output_type": "stream",
     "text": [
      "Name uska Sara. Uski umer 12.0 saal hy. Wo Karachi me rehti hy\n"
     ]
    }
   ],
   "source": [
    "name = input(\"Apna naam bataen: \")\n",
    "age  = float(input(\"Tumahri Umaer kitni hy\"))\n",
    "city = input(\"Kinse city se ho?\")\n",
    "print(f\"Name uska {name}. Uski umer {age} saal hy. Wo {city} me rehti hy\")"
   ]
  },
  {
   "cell_type": "code",
   "execution_count": null,
   "id": "61184d9a-3583-4dd6-96af-11ef4f72bd39",
   "metadata": {},
   "outputs": [],
   "source": []
  }
 ],
 "metadata": {
  "kernelspec": {
   "display_name": "Python 3 (ipykernel)",
   "language": "python",
   "name": "python3"
  },
  "language_info": {
   "codemirror_mode": {
    "name": "ipython",
    "version": 3
   },
   "file_extension": ".py",
   "mimetype": "text/x-python",
   "name": "python",
   "nbconvert_exporter": "python",
   "pygments_lexer": "ipython3",
   "version": "3.12.3"
  }
 },
 "nbformat": 4,
 "nbformat_minor": 5
}
