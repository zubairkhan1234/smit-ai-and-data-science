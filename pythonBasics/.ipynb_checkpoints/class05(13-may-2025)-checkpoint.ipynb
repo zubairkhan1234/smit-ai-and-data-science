{
 "cells": [
  {
   "cell_type": "code",
   "execution_count": 5,
   "id": "f6542f55-71a5-4c4e-8c48-6c931b247890",
   "metadata": {},
   "outputs": [],
   "source": [
    "# a = int(input(\"Enter a age of a\"))\n",
    "# b = int(input(\"Enter a ager of b\"))\n",
    "# c = int(input(\"Enter a ager of c\"))\n",
    "\n",
    "# oldest_person\n",
    "# youngest_person\n",
    "\n",
    "# if a > b:\n",
    "#     if a > c:\n",
    "#         oldest = a\n",
    "        "
   ]
  },
  {
   "cell_type": "markdown",
   "id": "53aef218-9a8f-4eaa-bbe2-49f0d08753c5",
   "metadata": {},
   "source": [
    "# Python data structure collection\n",
    "- string\n",
    "- list\n",
    "- dictionary\n",
    "- tuple\n",
    "- set\n"
   ]
  },
  {
   "cell_type": "markdown",
   "id": "58d36a5e-b781-4149-acf6-e76e57da7b4e",
   "metadata": {},
   "source": [
    "# we can create a list of students"
   ]
  },
  {
   "cell_type": "code",
   "execution_count": null,
   "id": "7fc597bf-34f2-406c-a366-5b5fa1715305",
   "metadata": {},
   "outputs": [],
   "source": [
    "## List \n",
    "    list is denote by []\n",
    "    - []\n",
    "    - mutable : Element is list can chagned\n",
    "    - can hold every valid vlaue\n",
    "- Iterable : loop karsakti hai \n"
   ]
  },
  {
   "cell_type": "code",
   "execution_count": 9,
   "id": "5efd81f9-eaee-4fbf-82df-bfdd21f8027b",
   "metadata": {},
   "outputs": [],
   "source": [
    "# Creating an empty list\n",
    "students = []"
   ]
  },
  {
   "cell_type": "code",
   "execution_count": null,
   "id": "42635b61-de9e-4426-b39e-29813496a1a1",
   "metadata": {},
   "outputs": [],
   "source": []
  },
  {
   "cell_type": "code",
   "execution_count": 10,
   "id": "4341da01-dcf6-4b0d-875c-b3de29f5b009",
   "metadata": {},
   "outputs": [
    {
     "name": "stdout",
     "output_type": "stream",
     "text": [
      "<class 'list'>\n"
     ]
    }
   ],
   "source": [
    "# We can check type of list like thid \n",
    "print(type(students))"
   ]
  },
  {
   "cell_type": "code",
   "execution_count": null,
   "id": "2c3f89cf-9431-4389-af01-4e80f272828a",
   "metadata": {},
   "outputs": [],
   "source": [
    "# Creating a member list\n",
    "students = ['a', 'b', 'c']"
   ]
  },
  {
   "cell_type": "code",
   "execution_count": 11,
   "id": "060f7a55-7a92-4a72-a722-1e5f9fbb519a",
   "metadata": {},
   "outputs": [],
   "source": [
    "## Indexes in list"
   ]
  },
  {
   "cell_type": "raw",
   "id": "3e49a662-c74b-4243-9330-297de46ee834",
   "metadata": {},
   "source": [
    "             0    1    2\n",
    "students = ['a', 'b', 'c']\n"
   ]
  },
  {
   "cell_type": "code",
   "execution_count": null,
   "id": "a8ce7b04-e3af-4e1b-a7f0-2244ecde4c35",
   "metadata": {},
   "outputs": [],
   "source": []
  }
 ],
 "metadata": {
  "kernelspec": {
   "display_name": "Python 3 (ipykernel)",
   "language": "python",
   "name": "python3"
  },
  "language_info": {
   "codemirror_mode": {
    "name": "ipython",
    "version": 3
   },
   "file_extension": ".py",
   "mimetype": "text/x-python",
   "name": "python",
   "nbconvert_exporter": "python",
   "pygments_lexer": "ipython3",
   "version": "3.13.3"
  }
 },
 "nbformat": 4,
 "nbformat_minor": 5
}
