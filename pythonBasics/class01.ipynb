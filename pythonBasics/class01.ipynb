{
 "cells": [
  {
   "cell_type": "markdown",
   "id": "46e6258c-e202-4e06-b6cd-41b9339be764",
   "metadata": {},
   "source": [
    "# Programing fundamentals"
   ]
  },
  {
   "cell_type": "code",
   "execution_count": null,
   "id": "a18794e8-bfa6-41a0-aef9-0241f87f0167",
   "metadata": {},
   "outputs": [],
   "source": [
    "print(\"Hello World\")"
   ]
  },
  {
   "cell_type": "markdown",
   "id": "724e5e77-0674-4091-a76b-de5379b2264d",
   "metadata": {},
   "source": [
    "### Print is a default python function"
   ]
  },
  {
   "cell_type": "code",
   "execution_count": null,
   "id": "16da8103-839d-4cd8-8441-5296fb75ab8c",
   "metadata": {},
   "outputs": [],
   "source": [
    "print(\"Hello world\")\n",
    "Print(\"Hello world\")\n",
    "PRINT(\"hello world\")\n",
    "print(hello world\n",
    "     "
   ]
  },
  {
   "cell_type": "markdown",
   "id": "d8114b31-8a25-4833-ad90-10271ca909e6",
   "metadata": {},
   "source": [
    "#### To print a value the right synatax of print is print() \n",
    "- print(\"Hello world\") Right\n",
    "- Print(\"Hello world\") Wrong\n",
    "- PRINT(\"hellot world\") Wrong\n",
    "- print(helloworld) Right\n"
   ]
  },
  {
   "cell_type": "markdown",
   "id": "438ff9ce-c9f7-445e-a92f-89494782e51a",
   "metadata": {},
   "source": [
    "# Value : Data \n"
   ]
  },
  {
   "cell_type": "raw",
   "id": "65f2667a-2c16-4bd9-adba-ad7a837f6713",
   "metadata": {},
   "source": [
    "Value : Data.\n",
    "Data : Text : \"I'm Muhammad Zubair\" : string : str\n",
    "Data : Number.\n",
    "- whole : integers : int : 1,2,4,5,6\n",
    "- Decimals: float : float : 0.3, 6.4"
   ]
  },
  {
   "cell_type": "code",
   "execution_count": null,
   "id": "b183c97d-44ef-46cf-84c6-08d0216da6da",
   "metadata": {},
   "outputs": [],
   "source": []
  }
 ],
 "metadata": {
  "kernelspec": {
   "display_name": "Python 3 (ipykernel)",
   "language": "python",
   "name": "python3"
  },
  "language_info": {
   "codemirror_mode": {
    "name": "ipython",
    "version": 3
   },
   "file_extension": ".py",
   "mimetype": "text/x-python",
   "name": "python",
   "nbconvert_exporter": "python",
   "pygments_lexer": "ipython3",
   "version": "3.13.3"
  }
 },
 "nbformat": 4,
 "nbformat_minor": 5
}
