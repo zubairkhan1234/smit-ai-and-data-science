{
 "cells": [
  {
   "cell_type": "markdown",
   "id": "53aef218-9a8f-4eaa-bbe2-49f0d08753c5",
   "metadata": {},
   "source": [
    "# Python data structure collection\n",
    "- string\n",
    "- list\n",
    "- dictionary\n",
    "- tuple\n",
    "- set\n"
   ]
  },
  {
   "cell_type": "markdown",
   "id": "58d36a5e-b781-4149-acf6-e76e57da7b4e",
   "metadata": {},
   "source": [
    "# we can create a list of students"
   ]
  },
  {
   "cell_type": "raw",
   "id": "b0a88268-3919-4980-aae6-0828af949242",
   "metadata": {},
   "source": [
    "## List \n",
    "    list is denote by []\n",
    "    - []\n",
    "    - mutable : Element is list can chagned\n",
    "    - can hold every valid vlaue\n",
    "- Iterable : loop karsakti hai \n"
   ]
  },
  {
   "cell_type": "code",
   "execution_count": 49,
   "id": "5efd81f9-eaee-4fbf-82df-bfdd21f8027b",
   "metadata": {},
   "outputs": [],
   "source": [
    "# Creating an empty list\n",
    "students = []"
   ]
  },
  {
   "cell_type": "code",
   "execution_count": null,
   "id": "42635b61-de9e-4426-b39e-29813496a1a1",
   "metadata": {},
   "outputs": [],
   "source": []
  },
  {
   "cell_type": "code",
   "execution_count": 50,
   "id": "4341da01-dcf6-4b0d-875c-b3de29f5b009",
   "metadata": {},
   "outputs": [
    {
     "name": "stdout",
     "output_type": "stream",
     "text": [
      "<class 'list'>\n"
     ]
    }
   ],
   "source": [
    "# We can check type of list like thid \n",
    "print(type(students))"
   ]
  },
  {
   "cell_type": "code",
   "execution_count": 51,
   "id": "2c3f89cf-9431-4389-af01-4e80f272828a",
   "metadata": {},
   "outputs": [],
   "source": [
    "# Creating a member list\n",
    "students = ['a', 'b', 'c']"
   ]
  },
  {
   "cell_type": "code",
   "execution_count": 52,
   "id": "060f7a55-7a92-4a72-a722-1e5f9fbb519a",
   "metadata": {},
   "outputs": [],
   "source": [
    "## Indexes in list"
   ]
  },
  {
   "cell_type": "raw",
   "id": "3e49a662-c74b-4243-9330-297de46ee834",
   "metadata": {},
   "source": [
    "             0    1    2\n",
    "students = ['a', 'b', 'c']\n",
    "            -3   -2   -1\n"
   ]
  },
  {
   "cell_type": "code",
   "execution_count": 53,
   "id": "a8ce7b04-e3af-4e1b-a7f0-2244ecde4c35",
   "metadata": {},
   "outputs": [],
   "source": [
    "                # 0       1          3       4        5          6      7          8         9        10        11\n",
    "students = [\"Saqib\", \"Haseeb\", \"Zubair\", \"Anas\", \"Nabeel\", \"Wasiq\", \"Faraaz\", \"Faisal\", \"Hammad\", \"Ahsan\", \"Hassan\"]\n",
    "             # -11       -10      -9        -8       -7       -6       -5        -4       -3         -2         -1"
   ]
  },
  {
   "cell_type": "code",
   "execution_count": 54,
   "id": "4a0bbc84-fdca-46c7-aa14-aba12d07782d",
   "metadata": {},
   "outputs": [
    {
     "data": {
      "text/plain": [
       "11"
      ]
     },
     "execution_count": 54,
     "metadata": {},
     "output_type": "execute_result"
    }
   ],
   "source": [
    "len(students)"
   ]
  },
  {
   "cell_type": "code",
   "execution_count": 55,
   "id": "283f817c-69b1-4a13-a1f0-b29da51d5026",
   "metadata": {},
   "outputs": [
    {
     "data": {
      "text/plain": [
       "list"
      ]
     },
     "execution_count": 55,
     "metadata": {},
     "output_type": "execute_result"
    }
   ],
   "source": [
    "type(students)"
   ]
  },
  {
   "cell_type": "code",
   "execution_count": 56,
   "id": "1b0268d4-989f-44d1-a778-3a41f4c05a2a",
   "metadata": {},
   "outputs": [],
   "source": [
    "                # 0       1          2       3        4         5        6         7         8         9        10\n",
    "students = [\"Saqib\", \"Haseeb\", \"Zubair\", \"Anas\", \"Nabeel\", \"Wasiq\", \"Faraaz\", \"Faisal\", \"Hammad\", \"Ahsan\", \"Hassan\"]\n",
    "            # -11       -10      -9        -8       -7       -6       -5        -4       -3         -2         -1"
   ]
  },
  {
   "cell_type": "code",
   "execution_count": 57,
   "id": "6d0a0cc5-9e9c-4948-aea9-cd4fd1d334fa",
   "metadata": {},
   "outputs": [
    {
     "data": {
      "text/plain": [
       "'Nabeel'"
      ]
     },
     "execution_count": 57,
     "metadata": {},
     "output_type": "execute_result"
    }
   ],
   "source": [
    "# Get the vlaue using index form the list \n",
    "\n",
    "students[4]"
   ]
  },
  {
   "cell_type": "code",
   "execution_count": 58,
   "id": "4e9191dc-a4e7-4554-a108-89f2fea765f2",
   "metadata": {},
   "outputs": [],
   "source": [
    "                # 0       1          2       3        4         5        6         7         8         9        10\n",
    "students = [\"Saqib\", \"Haseeb\", \"Zubair\", \"Anas\", \"Nabeel\", \"Wasiq\", \"Faraaz\", \"Faisal\", \"Hammad\", \"Ahsan\", \"Hassan\"]\n",
    "             # -11       -10      -9        -8       -7       -6       -5        -4       -3         -2         -1"
   ]
  },
  {
   "cell_type": "code",
   "execution_count": 59,
   "id": "4171b029-fbb8-4834-aff8-2eda2de9ee44",
   "metadata": {},
   "outputs": [
    {
     "data": {
      "text/plain": [
       "'Hammad'"
      ]
     },
     "execution_count": 59,
     "metadata": {},
     "output_type": "execute_result"
    }
   ],
   "source": [
    "students[-3]"
   ]
  },
  {
   "cell_type": "code",
   "execution_count": null,
   "id": "9efbd712-cc5e-407f-b866-ca7d7f1226e7",
   "metadata": {},
   "outputs": [],
   "source": []
  },
  {
   "cell_type": "markdown",
   "id": "42988a03-b29c-4d5e-ae10-b8684bf55fd6",
   "metadata": {},
   "source": [
    "### students[1: 5 : 2]\n",
    "\n",
    "students = [\"Saqib\", \"Haseeb\", \"Zubair\", \"Anas\", \"Nabeel\", \"Wasiq\", \"Faraaz\", \"Faisal\", \"Hammad\", \"Ahsan\", \"Hassan\"]\n",
    "\n",
    "- Pehla number (start): Kahan se list ko kaatna shuru karna hai.\n",
    "- Dusra number (end): Kahan tak kaatna hai (lekin us index ko nahi lena).\n",
    "- Teesra number (step): Kitne kitne element chhod kar agla uthana hai."
   ]
  },
  {
   "cell_type": "code",
   "execution_count": 60,
   "id": "85242acc-21b0-49e2-8200-e197ccf7c803",
   "metadata": {},
   "outputs": [
    {
     "data": {
      "text/plain": [
       "['Haseeb',\n",
       " 'Zubair',\n",
       " 'Anas',\n",
       " 'Nabeel',\n",
       " 'Wasiq',\n",
       " 'Faraaz',\n",
       " 'Faisal',\n",
       " 'Hammad',\n",
       " 'Ahsan',\n",
       " 'Hassan']"
      ]
     },
     "execution_count": 60,
     "metadata": {},
     "output_type": "execute_result"
    }
   ],
   "source": [
    "students[1:] "
   ]
  },
  {
   "cell_type": "code",
   "execution_count": 61,
   "id": "f20536f3-4650-4b2b-9a61-f00dc73eb863",
   "metadata": {},
   "outputs": [
    {
     "name": "stdout",
     "output_type": "stream",
     "text": [
      "['Saqib', 'Haseeb', 'Zubair', 'Anas', 'Nabeel', 'Wasiq', 'Faraaz', 'Faisal', 'Hammad', 'Ahsan', 'Hassan']\n"
     ]
    }
   ],
   "source": [
    "print(students)"
   ]
  },
  {
   "cell_type": "code",
   "execution_count": 62,
   "id": "762074ba-17d9-4ae0-bae4-22bc15df955a",
   "metadata": {},
   "outputs": [
    {
     "data": {
      "text/plain": [
       "['Zubair', 'Anas', 'Nabeel']"
      ]
     },
     "execution_count": 62,
     "metadata": {},
     "output_type": "execute_result"
    }
   ],
   "source": [
    "students[2:5] # it will start from 2 index till 5 index but 5th index value will not include "
   ]
  },
  {
   "cell_type": "code",
   "execution_count": 63,
   "id": "eb7052cd-7881-4e35-9de7-6b7152b3df2f",
   "metadata": {},
   "outputs": [],
   "source": [
    "             # 0       1          2       3        4         5        6         7         8         9        10\n",
    "students = [\"Saqib\", \"Haseeb\", \"Zubair\", \"Anas\", \"Nabeel\", \"Wasiq\", \"Faraaz\", \"Faisal\", \"Hammad\", \"Ahsan\", \"Hassan\"]\n",
    "             # -11       -10      -9        -8       -7       -6       -5        -4       -3         -2         -1"
   ]
  },
  {
   "cell_type": "code",
   "execution_count": 64,
   "id": "39cad517-2e25-46ac-b2bc-10d1efb0aaa0",
   "metadata": {},
   "outputs": [
    {
     "data": {
      "text/plain": [
       "['Anas', 'Nabeel', 'Wasiq']"
      ]
     },
     "execution_count": 64,
     "metadata": {},
     "output_type": "execute_result"
    }
   ],
   "source": [
    "students[3: -5] # End index -13 ka matlab hota hai list ke aakhir se reverse me count karte hue index."
   ]
  },
  {
   "cell_type": "code",
   "execution_count": null,
   "id": "7c2acc6d-5d66-44d2-a8bf-6f15bed2e039",
   "metadata": {},
   "outputs": [],
   "source": []
  },
  {
   "cell_type": "markdown",
   "id": "78db3835-481d-4e57-887e-3ab072b43fd0",
   "metadata": {},
   "source": [
    "#### students[4: -13]\n",
    "\n",
    "#### Kya hoga?\n",
    "- Start index 4 se slicing shuru hogi.\n",
    "- End index -13 ka matlab hota hai list ke aakhir se reverse me count karte hue index.\n",
    "- Lekin agar end index list ke size se bohat chhota ho (bahir nikal jaye) to Python empty list [] return karta hai."
   ]
  },
  {
   "cell_type": "code",
   "execution_count": 65,
   "id": "210f06c9-0bbd-498f-a7bc-29751ca58677",
   "metadata": {},
   "outputs": [
    {
     "data": {
      "text/plain": [
       "[]"
      ]
     },
     "execution_count": 65,
     "metadata": {},
     "output_type": "execute_result"
    }
   ],
   "source": [
    "students[4: -13] # if insert the index is wrong which is -13 it will not slice the array it will return the empty array "
   ]
  },
  {
   "cell_type": "code",
   "execution_count": 66,
   "id": "a4c22de4-f6c0-4240-880d-f02ab5abe982",
   "metadata": {},
   "outputs": [],
   "source": [
    "              # 0       1          2       3        4         5        6         7         8         9        10\n",
    "students = [\"Saqib\", \"Haseeb\", \"Zubair\", \"Anas\", \"Nabeel\", \"Wasiq\", \"Faraaz\", \"Faisal\", \"Hammad\", \"Ahsan\", \"Hassan\"]\n",
    "             # -11       -10      -9        -8       -7       -6       -5        -4       -3         -2         -1"
   ]
  },
  {
   "cell_type": "code",
   "execution_count": 67,
   "id": "f915b4ad-d5a0-4b65-8371-014953fae0cc",
   "metadata": {},
   "outputs": [
    {
     "data": {
      "text/plain": [
       "['Saqib', 'Anas', 'Faraaz', 'Ahsan']"
      ]
     },
     "execution_count": 67,
     "metadata": {},
     "output_type": "execute_result"
    }
   ],
   "source": [
    "students[::3] # ager define nahi karian gay to 0 se start hoga or last tk jaye ga "
   ]
  },
  {
   "cell_type": "code",
   "execution_count": null,
   "id": "56c38c84-7404-4b60-b63e-73d535eba216",
   "metadata": {},
   "outputs": [],
   "source": []
  },
  {
   "cell_type": "markdown",
   "id": "15f4a525-ea5a-4f51-9233-35ff9c806f72",
   "metadata": {},
   "source": [
    "\n",
    "# List methods\n",
    "- append() => member in the last index\n",
    "- insert() => add member on given index \n",
    "- extend() => add another collection one by one\n",
    "- "
   ]
  },
  {
   "cell_type": "markdown",
   "id": "cb90f57a-fc87-438c-94c0-3de76c0bab34",
   "metadata": {},
   "source": [
    "## append()"
   ]
  },
  {
   "cell_type": "code",
   "execution_count": 68,
   "id": "7762f6d5-e50d-4532-96dc-d6991262ec0e",
   "metadata": {},
   "outputs": [
    {
     "data": {
      "text/plain": [
       "['Saqib',\n",
       " 'Haseeb',\n",
       " 'Zubair',\n",
       " 'Anas',\n",
       " 'Nabeel',\n",
       " 'Wasiq',\n",
       " 'Faraaz',\n",
       " 'Faisal',\n",
       " 'Hammad',\n",
       " 'Ahsan',\n",
       " 'Hassan',\n",
       " 'new students']"
      ]
     },
     "execution_count": 68,
     "metadata": {},
     "output_type": "execute_result"
    }
   ],
   "source": [
    "students.append(\"new students\")\n",
    "students"
   ]
  },
  {
   "cell_type": "code",
   "execution_count": 69,
   "id": "79efe348-6447-469e-85fe-50963ae8950f",
   "metadata": {},
   "outputs": [],
   "source": [
    "#\n",
    "\n",
    "class1 = [\"Faraaz\", \"Faisal\", \"Hammad\", \"Ahsan\", \"Hassan\"]\n",
    "class2 =[ \"Faraaz\", \"Faisal\", \"Hammad\", \"Ahsan\", \"Hassan\"]"
   ]
  },
  {
   "cell_type": "code",
   "execution_count": 70,
   "id": "ff47b428-76c9-4770-bdd2-2486143cc4f5",
   "metadata": {
    "scrolled": true
   },
   "outputs": [
    {
     "name": "stdout",
     "output_type": "stream",
     "text": [
      "['Faraaz', 'Faisal', 'Hammad', 'Ahsan', 'Hassan']\n"
     ]
    }
   ],
   "source": [
    "print(class1)"
   ]
  },
  {
   "cell_type": "code",
   "execution_count": 71,
   "id": "e885a99f-a35d-4664-aff9-939d9534d2c0",
   "metadata": {},
   "outputs": [
    {
     "name": "stdout",
     "output_type": "stream",
     "text": [
      "['Saqib', 'Haseeb', 'Zubair', 'Anas', 'Nabeel', 'Wasiq', 'Faraaz', 'Faisal', 'Hammad', 'Ahsan', 'Hassan', 'new students']\n"
     ]
    }
   ],
   "source": [
    "print(students)"
   ]
  },
  {
   "cell_type": "markdown",
   "id": "abca1d42-2e4d-4d4e-add0-fce1ca5171e3",
   "metadata": {},
   "source": [
    "## Insert()"
   ]
  },
  {
   "cell_type": "code",
   "execution_count": 72,
   "id": "9109da80-8691-46c2-ad4e-97ca7bac13be",
   "metadata": {},
   "outputs": [],
   "source": [
    "students.insert(0,'zyx') \n",
    "# first main btana hota hai k kahan insert karna hai \n",
    "# second main batana hota hai k kia insert karna hair"
   ]
  },
  {
   "cell_type": "code",
   "execution_count": 73,
   "id": "7965b747-a6fd-4c1d-b32e-d442673273de",
   "metadata": {},
   "outputs": [
    {
     "name": "stdout",
     "output_type": "stream",
     "text": [
      "['zyx', 'Saqib', 'Haseeb', 'Zubair', 'Anas', 'Nabeel', 'Wasiq', 'Faraaz', 'Faisal', 'Hammad', 'Ahsan', 'Hassan', 'new students']\n"
     ]
    }
   ],
   "source": [
    "print(students)"
   ]
  },
  {
   "cell_type": "markdown",
   "id": "caf80cbd-526a-48ea-b73f-916bc978b524",
   "metadata": {},
   "source": [
    "# delete a Value form list\n",
    "- pop => delete by index \n",
    "- remove => delete by value \n",
    "- clear => delete all values\n",
    "- del = delete by value"
   ]
  },
  {
   "cell_type": "markdown",
   "id": "2903b5d5-7d95-43b4-93a9-11d9420a1527",
   "metadata": {},
   "source": [
    "## pop()"
   ]
  },
  {
   "cell_type": "code",
   "execution_count": 82,
   "id": "21e5a464-d9c5-48c9-9b6a-ec37b2d3b6ce",
   "metadata": {},
   "outputs": [],
   "source": [
    "students = [ \"Faraaz\", \"Faisal\", \"Hammad\", \"Ahsan\", \"Hassan\"] "
   ]
  },
  {
   "cell_type": "code",
   "execution_count": 83,
   "id": "158a231a-c9a5-4292-ab9e-f0b01a381492",
   "metadata": {},
   "outputs": [
    {
     "data": {
      "text/plain": [
       "'Faraaz'"
      ]
     },
     "execution_count": 83,
     "metadata": {},
     "output_type": "execute_result"
    }
   ],
   "source": [
    "students.pop(0)"
   ]
  },
  {
   "cell_type": "code",
   "execution_count": 76,
   "id": "04171acc-3c99-4507-974a-0f56c9c6a573",
   "metadata": {},
   "outputs": [
    {
     "data": {
      "text/plain": [
       "'Hassan'"
      ]
     },
     "execution_count": 76,
     "metadata": {},
     "output_type": "execute_result"
    }
   ],
   "source": [
    "students.pop() # ye wo vlaue return karta hai jo pop karnay se delete hoi h"
   ]
  },
  {
   "cell_type": "code",
   "execution_count": 77,
   "id": "17e6aa89-712d-4699-b6a7-d00eecfe6b7d",
   "metadata": {},
   "outputs": [
    {
     "name": "stdout",
     "output_type": "stream",
     "text": [
      "['Faisal', 'Hammad', 'Ahsan']\n"
     ]
    }
   ],
   "source": [
    "print(students)"
   ]
  },
  {
   "cell_type": "markdown",
   "id": "f0c96b82-d93f-476c-95d6-80910a043cd6",
   "metadata": {},
   "source": [
    "## del (delete)"
   ]
  },
  {
   "cell_type": "code",
   "execution_count": 78,
   "id": "d495a546-400c-49b0-abe1-e4f445040ca9",
   "metadata": {},
   "outputs": [
    {
     "data": {
      "text/plain": [
       "['Hammad', 'Ahsan']"
      ]
     },
     "execution_count": 78,
     "metadata": {},
     "output_type": "execute_result"
    }
   ],
   "source": [
    "del students[0] \n",
    "students\n",
    "#  delete k lia range bhi de saktay hian or single index bhi"
   ]
  },
  {
   "cell_type": "code",
   "execution_count": 79,
   "id": "14339ebe-56b5-4ca1-855d-b7e5a703b126",
   "metadata": {},
   "outputs": [
    {
     "name": "stdout",
     "output_type": "stream",
     "text": [
      "['Hammad', 'Ahsan']\n"
     ]
    }
   ],
   "source": [
    "print(students)"
   ]
  },
  {
   "cell_type": "markdown",
   "id": "e3f345b7-dfbb-49cf-bae5-044fca4554a6",
   "metadata": {},
   "source": [
    "# remove()"
   ]
  },
  {
   "cell_type": "code",
   "execution_count": 80,
   "id": "aa7b9948-3d95-49eb-a04e-93d7c4f35471",
   "metadata": {},
   "outputs": [],
   "source": [
    "students.remove(\"Hammad\") \n",
    "# is tarha list main se koi bhi value remove kar saktay hain leking just wo value remove hogi jo pehlay found hogi\n"
   ]
  },
  {
   "cell_type": "code",
   "execution_count": 81,
   "id": "acc607fd-588f-4536-b093-1df199853f82",
   "metadata": {},
   "outputs": [
    {
     "name": "stdout",
     "output_type": "stream",
     "text": [
      "['Ahsan']\n"
     ]
    }
   ],
   "source": [
    "print(students)"
   ]
  },
  {
   "cell_type": "code",
   "execution_count": 84,
   "id": "5966f9b2-9d02-4fa7-9874-a2f9e62fec3c",
   "metadata": {},
   "outputs": [],
   "source": [
    " students.clear()"
   ]
  },
  {
   "cell_type": "code",
   "execution_count": 85,
   "id": "1a5119e3-aa3a-4c13-bc4e-720f41c2dc99",
   "metadata": {},
   "outputs": [
    {
     "data": {
      "text/plain": [
       "[]"
      ]
     },
     "execution_count": 85,
     "metadata": {},
     "output_type": "execute_result"
    }
   ],
   "source": [
    "students"
   ]
  },
  {
   "cell_type": "code",
   "execution_count": null,
   "id": "e4edab65-b23b-40f5-9326-9322163df716",
   "metadata": {},
   "outputs": [],
   "source": []
  },
  {
   "cell_type": "code",
   "execution_count": null,
   "id": "a5a0329b-b021-4d84-b93e-362b87b6bb0e",
   "metadata": {},
   "outputs": [],
   "source": []
  },
  {
   "cell_type": "code",
   "execution_count": null,
   "id": "05c6cae0-bd0b-400d-a783-3b227a79e4eb",
   "metadata": {},
   "outputs": [],
   "source": []
  },
  {
   "cell_type": "code",
   "execution_count": null,
   "id": "488c32b1-b6f7-4ce0-91eb-2fa7be14b3df",
   "metadata": {},
   "outputs": [],
   "source": []
  },
  {
   "cell_type": "code",
   "execution_count": null,
   "id": "6fcf61c0-1de6-45ac-bed9-596868cf3e4a",
   "metadata": {},
   "outputs": [],
   "source": []
  },
  {
   "cell_type": "code",
   "execution_count": null,
   "id": "d6e24a3a-b180-4059-8bca-57c33dc23ee7",
   "metadata": {},
   "outputs": [],
   "source": []
  },
  {
   "cell_type": "code",
   "execution_count": null,
   "id": "e89a2df7-d8fe-48ac-968a-4c49e01db520",
   "metadata": {},
   "outputs": [],
   "source": []
  },
  {
   "cell_type": "code",
   "execution_count": null,
   "id": "81ca9607-fd76-4244-a054-ea658bb78fe5",
   "metadata": {},
   "outputs": [],
   "source": []
  },
  {
   "cell_type": "code",
   "execution_count": null,
   "id": "e6172940-c7ab-41df-a389-5a59037d3c2f",
   "metadata": {},
   "outputs": [],
   "source": []
  },
  {
   "cell_type": "code",
   "execution_count": null,
   "id": "66aef93d-cf6f-442e-a974-89ce6d5717ee",
   "metadata": {},
   "outputs": [],
   "source": []
  },
  {
   "cell_type": "code",
   "execution_count": null,
   "id": "b11e4ca0-7751-46b7-ab82-b8f58aa0a32f",
   "metadata": {},
   "outputs": [],
   "source": []
  },
  {
   "cell_type": "code",
   "execution_count": null,
   "id": "e698a5dc-a70c-4941-9f5d-905bcbd60b1f",
   "metadata": {},
   "outputs": [],
   "source": []
  },
  {
   "cell_type": "code",
   "execution_count": null,
   "id": "fd8396b9-bab8-4d18-befb-5409c3059434",
   "metadata": {},
   "outputs": [],
   "source": []
  },
  {
   "cell_type": "code",
   "execution_count": null,
   "id": "87d6827a-2578-4429-a471-0156a001ba17",
   "metadata": {},
   "outputs": [],
   "source": []
  },
  {
   "cell_type": "code",
   "execution_count": null,
   "id": "1f378540-cecf-4d8b-85a3-37d935d95dfb",
   "metadata": {},
   "outputs": [],
   "source": []
  },
  {
   "cell_type": "code",
   "execution_count": null,
   "id": "a262e0dd-83a7-4dca-a906-b9bc222a94e9",
   "metadata": {},
   "outputs": [],
   "source": []
  },
  {
   "cell_type": "code",
   "execution_count": null,
   "id": "7a5e4e5b-9489-4e8b-beea-439cac5380e1",
   "metadata": {},
   "outputs": [],
   "source": []
  },
  {
   "cell_type": "code",
   "execution_count": null,
   "id": "46112378-84a6-4fba-bec1-b244c11d3c9e",
   "metadata": {},
   "outputs": [],
   "source": []
  },
  {
   "cell_type": "code",
   "execution_count": null,
   "id": "27c74cd2-97cf-4dcf-8ca9-826e00017d6b",
   "metadata": {},
   "outputs": [],
   "source": []
  }
 ],
 "metadata": {
  "kernelspec": {
   "display_name": "Python 3 (ipykernel)",
   "language": "python",
   "name": "python3"
  },
  "language_info": {
   "codemirror_mode": {
    "name": "ipython",
    "version": 3
   },
   "file_extension": ".py",
   "mimetype": "text/x-python",
   "name": "python",
   "nbconvert_exporter": "python",
   "pygments_lexer": "ipython3",
   "version": "3.13.3"
  }
 },
 "nbformat": 4,
 "nbformat_minor": 5
}
